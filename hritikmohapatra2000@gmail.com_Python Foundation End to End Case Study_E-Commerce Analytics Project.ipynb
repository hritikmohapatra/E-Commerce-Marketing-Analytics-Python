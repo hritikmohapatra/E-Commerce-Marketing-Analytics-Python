{
 "cells": [
  {
   "cell_type": "code",
   "execution_count": 1,
   "id": "e232a5e0",
   "metadata": {
    "execution": {
     "iopub.execute_input": "2022-04-21T13:35:21.558921Z",
     "iopub.status.busy": "2022-04-21T13:35:21.558377Z",
     "iopub.status.idle": "2022-04-21T13:35:22.608295Z",
     "shell.execute_reply": "2022-04-21T13:35:22.607648Z"
    },
    "papermill": {
     "duration": 1.18993,
     "end_time": "2022-04-21T13:35:22.610881",
     "exception": false,
     "start_time": "2022-04-21T13:35:21.420951",
     "status": "completed"
    },
    "tags": []
   },
   "outputs": [],
   "source": [
    "# Import the necceasary packages\n",
    "\n",
    "# Numerical Operations\n",
    "import pandas as pd\n",
    "import numpy as np\n",
    "\n",
    "#Plotting\n",
    "import matplotlib.pyplot as plt\n",
    "import seaborn as sns\n",
    "\n",
    "#Remove warnings\n",
    "import warnings\n",
    "warnings.filterwarnings('ignore')\n",
    "\n",
    "#Date\n",
    "import datetime as dt\n",
    "\n",
    "# set the graphs to show in the jupyter notebook\n",
    "%matplotlib inline\n",
    "\n",
    "# set seabor graphs to a better style\n",
    "sns.set(style=\"ticks\")\n"
   ]
  },
  {
   "cell_type": "code",
   "execution_count": 2,
   "id": "5af813fb",
   "metadata": {
    "execution": {
     "iopub.execute_input": "2022-04-21T13:35:22.875850Z",
     "iopub.status.busy": "2022-04-21T13:35:22.875104Z",
     "iopub.status.idle": "2022-04-21T13:35:22.879926Z",
     "shell.execute_reply": "2022-04-21T13:35:22.879088Z"
    },
    "papermill": {
     "duration": 0.152601,
     "end_time": "2022-04-21T13:35:22.881692",
     "exception": false,
     "start_time": "2022-04-21T13:35:22.729091",
     "status": "completed"
    },
    "tags": []
   },
   "outputs": [],
   "source": [
    "## import the data set"
   ]
  },
  {
   "cell_type": "code",
   "execution_count": 4,
   "id": "519150db",
   "metadata": {
    "execution": {
     "iopub.execute_input": "2022-04-21T13:35:23.121043Z",
     "iopub.status.busy": "2022-04-21T13:35:23.120777Z",
     "iopub.status.idle": "2022-04-21T13:35:23.395163Z",
     "shell.execute_reply": "2022-04-21T13:35:23.394467Z"
    },
    "papermill": {
     "duration": 0.39677,
     "end_time": "2022-04-21T13:35:23.397257",
     "exception": false,
     "start_time": "2022-04-21T13:35:23.000487",
     "status": "completed"
    },
    "tags": []
   },
   "outputs": [],
   "source": [
    "customers=pd.read_csv(\"CUSTOMERS.csv\")"
   ]
  },
  {
   "cell_type": "code",
   "execution_count": 5,
   "id": "0ca07815",
   "metadata": {
    "execution": {
     "iopub.execute_input": "2022-04-21T13:35:23.633865Z",
     "iopub.status.busy": "2022-04-21T13:35:23.633282Z",
     "iopub.status.idle": "2022-04-21T13:35:23.650034Z",
     "shell.execute_reply": "2022-04-21T13:35:23.649383Z"
    },
    "papermill": {
     "duration": 0.137108,
     "end_time": "2022-04-21T13:35:23.652047",
     "exception": false,
     "start_time": "2022-04-21T13:35:23.514939",
     "status": "completed"
    },
    "tags": []
   },
   "outputs": [],
   "source": [
    "sellers=pd.read_csv(\"SELLERS.csv\")"
   ]
  },
  {
   "cell_type": "code",
   "execution_count": 6,
   "id": "5a85b717",
   "metadata": {
    "execution": {
     "iopub.execute_input": "2022-04-21T13:35:23.896608Z",
     "iopub.status.busy": "2022-04-21T13:35:23.896352Z",
     "iopub.status.idle": "2022-04-21T13:35:23.966715Z",
     "shell.execute_reply": "2022-04-21T13:35:23.966093Z"
    },
    "papermill": {
     "duration": 0.196207,
     "end_time": "2022-04-21T13:35:23.968688",
     "exception": false,
     "start_time": "2022-04-21T13:35:23.772481",
     "status": "completed"
    },
    "tags": []
   },
   "outputs": [],
   "source": [
    "products=pd.read_csv(\"PRODUCTS.csv\")"
   ]
  },
  {
   "cell_type": "code",
   "execution_count": 7,
   "id": "26ee7542",
   "metadata": {
    "execution": {
     "iopub.execute_input": "2022-04-21T13:35:24.206041Z",
     "iopub.status.busy": "2022-04-21T13:35:24.205537Z",
     "iopub.status.idle": "2022-04-21T13:35:24.751694Z",
     "shell.execute_reply": "2022-04-21T13:35:24.750847Z"
    },
    "papermill": {
     "duration": 0.666743,
     "end_time": "2022-04-21T13:35:24.753748",
     "exception": false,
     "start_time": "2022-04-21T13:35:24.087005",
     "status": "completed"
    },
    "tags": []
   },
   "outputs": [],
   "source": [
    "orders=pd.read_csv(\"ORDERS.csv\")"
   ]
  },
  {
   "cell_type": "code",
   "execution_count": 8,
   "id": "7eabfd33",
   "metadata": {
    "execution": {
     "iopub.execute_input": "2022-04-21T13:35:24.990477Z",
     "iopub.status.busy": "2022-04-21T13:35:24.990205Z",
     "iopub.status.idle": "2022-04-21T13:35:25.364055Z",
     "shell.execute_reply": "2022-04-21T13:35:25.363208Z"
    },
    "papermill": {
     "duration": 0.494439,
     "end_time": "2022-04-21T13:35:25.366346",
     "exception": false,
     "start_time": "2022-04-21T13:35:24.871907",
     "status": "completed"
    },
    "tags": []
   },
   "outputs": [],
   "source": [
    "order_items=pd.read_csv(\"ORDER_ITEMS.csv\")"
   ]
  },
  {
   "cell_type": "code",
   "execution_count": 9,
   "id": "781c31d3",
   "metadata": {
    "execution": {
     "iopub.execute_input": "2022-04-21T13:35:25.609513Z",
     "iopub.status.busy": "2022-04-21T13:35:25.609234Z",
     "iopub.status.idle": "2022-04-21T13:35:25.778105Z",
     "shell.execute_reply": "2022-04-21T13:35:25.777186Z"
    },
    "papermill": {
     "duration": 0.289217,
     "end_time": "2022-04-21T13:35:25.780469",
     "exception": false,
     "start_time": "2022-04-21T13:35:25.491252",
     "status": "completed"
    },
    "tags": []
   },
   "outputs": [],
   "source": [
    "order_payments=pd.read_csv(\"ORDER_PAYMENTS.csv\")"
   ]
  },
  {
   "cell_type": "code",
   "execution_count": 10,
   "id": "12ede0bf",
   "metadata": {
    "execution": {
     "iopub.execute_input": "2022-04-21T13:35:26.024516Z",
     "iopub.status.busy": "2022-04-21T13:35:26.023784Z",
     "iopub.status.idle": "2022-04-21T13:35:26.360717Z",
     "shell.execute_reply": "2022-04-21T13:35:26.359760Z"
    },
    "papermill": {
     "duration": 0.462863,
     "end_time": "2022-04-21T13:35:26.363048",
     "exception": false,
     "start_time": "2022-04-21T13:35:25.900185",
     "status": "completed"
    },
    "tags": []
   },
   "outputs": [],
   "source": [
    "order_review_ratings=pd.read_csv(\"ORDER_REVIEW_RATINGS.csv\")"
   ]
  },
  {
   "cell_type": "code",
   "execution_count": 11,
   "id": "1c99f09a",
   "metadata": {
    "execution": {
     "iopub.execute_input": "2022-04-21T13:35:26.604578Z",
     "iopub.status.busy": "2022-04-21T13:35:26.604298Z",
     "iopub.status.idle": "2022-04-21T13:35:26.644053Z",
     "shell.execute_reply": "2022-04-21T13:35:26.643468Z"
    },
    "papermill": {
     "duration": 0.161003,
     "end_time": "2022-04-21T13:35:26.646104",
     "exception": false,
     "start_time": "2022-04-21T13:35:26.485101",
     "status": "completed"
    },
    "tags": []
   },
   "outputs": [],
   "source": [
    "geo_location=pd.read_csv(\"GEO_LOCATION.csv\")"
   ]
  },
  {
   "cell_type": "markdown",
   "id": "e63ae444",
   "metadata": {
    "papermill": {
     "duration": 0.123826,
     "end_time": "2022-04-21T13:35:26.889499",
     "exception": false,
     "start_time": "2022-04-21T13:35:26.765673",
     "status": "completed"
    },
    "tags": []
   },
   "source": [
    "## Data preparation"
   ]
  },
  {
   "cell_type": "markdown",
   "id": "1fb349f7",
   "metadata": {
    "papermill": {
     "duration": 0.120601,
     "end_time": "2022-04-21T13:35:27.130987",
     "exception": false,
     "start_time": "2022-04-21T13:35:27.010386",
     "status": "completed"
    },
    "tags": []
   },
   "source": [
    "### customers"
   ]
  },
  {
   "cell_type": "code",
   "execution_count": 12,
   "id": "1787d179",
   "metadata": {
    "execution": {
     "iopub.execute_input": "2022-04-21T13:35:27.372378Z",
     "iopub.status.busy": "2022-04-21T13:35:27.371481Z",
     "iopub.status.idle": "2022-04-21T13:35:27.417001Z",
     "shell.execute_reply": "2022-04-21T13:35:27.415891Z"
    },
    "papermill": {
     "duration": 0.169454,
     "end_time": "2022-04-21T13:35:27.419332",
     "exception": false,
     "start_time": "2022-04-21T13:35:27.249878",
     "status": "completed"
    },
    "tags": []
   },
   "outputs": [
    {
     "name": "stdout",
     "output_type": "stream",
     "text": [
      "<class 'pandas.core.frame.DataFrame'>\n",
      "RangeIndex: 99441 entries, 0 to 99440\n",
      "Data columns (total 5 columns):\n",
      " #   Column                    Non-Null Count  Dtype \n",
      "---  ------                    --------------  ----- \n",
      " 0   customer_id               99441 non-null  object\n",
      " 1   customer_unique_id        99441 non-null  object\n",
      " 2   customer_zip_code_prefix  99441 non-null  int64 \n",
      " 3   customer_city             99441 non-null  object\n",
      " 4   customer_state            99441 non-null  object\n",
      "dtypes: int64(1), object(4)\n",
      "memory usage: 3.8+ MB\n"
     ]
    }
   ],
   "source": [
    "customers.info()"
   ]
  },
  {
   "cell_type": "code",
   "execution_count": 13,
   "id": "a6e72f27",
   "metadata": {
    "execution": {
     "iopub.execute_input": "2022-04-21T13:35:27.660241Z",
     "iopub.status.busy": "2022-04-21T13:35:27.659923Z",
     "iopub.status.idle": "2022-04-21T13:35:27.686911Z",
     "shell.execute_reply": "2022-04-21T13:35:27.686393Z"
    },
    "papermill": {
     "duration": 0.147242,
     "end_time": "2022-04-21T13:35:27.688454",
     "exception": false,
     "start_time": "2022-04-21T13:35:27.541212",
     "status": "completed"
    },
    "tags": []
   },
   "outputs": [
    {
     "data": {
      "text/plain": [
       "customer_id                 0\n",
       "customer_unique_id          0\n",
       "customer_zip_code_prefix    0\n",
       "customer_city               0\n",
       "customer_state              0\n",
       "dtype: int64"
      ]
     },
     "execution_count": 13,
     "metadata": {},
     "output_type": "execute_result"
    }
   ],
   "source": [
    "customers.isna().sum()"
   ]
  },
  {
   "cell_type": "markdown",
   "id": "fdbb74b2",
   "metadata": {
    "papermill": {
     "duration": 0.120811,
     "end_time": "2022-04-21T13:35:27.928219",
     "exception": false,
     "start_time": "2022-04-21T13:35:27.807408",
     "status": "completed"
    },
    "tags": []
   },
   "source": [
    "### sellers"
   ]
  },
  {
   "cell_type": "code",
   "execution_count": 14,
   "id": "eb0661b0",
   "metadata": {
    "execution": {
     "iopub.execute_input": "2022-04-21T13:35:28.171681Z",
     "iopub.status.busy": "2022-04-21T13:35:28.170732Z",
     "iopub.status.idle": "2022-04-21T13:35:28.181284Z",
     "shell.execute_reply": "2022-04-21T13:35:28.180659Z"
    },
    "papermill": {
     "duration": 0.134102,
     "end_time": "2022-04-21T13:35:28.183490",
     "exception": false,
     "start_time": "2022-04-21T13:35:28.049388",
     "status": "completed"
    },
    "tags": []
   },
   "outputs": [
    {
     "name": "stdout",
     "output_type": "stream",
     "text": [
      "<class 'pandas.core.frame.DataFrame'>\n",
      "RangeIndex: 3095 entries, 0 to 3094\n",
      "Data columns (total 4 columns):\n",
      " #   Column                  Non-Null Count  Dtype \n",
      "---  ------                  --------------  ----- \n",
      " 0   seller_id               3095 non-null   object\n",
      " 1   seller_zip_code_prefix  3095 non-null   int64 \n",
      " 2   seller_city             3038 non-null   object\n",
      " 3   seller_state            3038 non-null   object\n",
      "dtypes: int64(1), object(3)\n",
      "memory usage: 96.8+ KB\n"
     ]
    }
   ],
   "source": [
    "sellers.info()"
   ]
  },
  {
   "cell_type": "code",
   "execution_count": 15,
   "id": "ad92f621",
   "metadata": {
    "execution": {
     "iopub.execute_input": "2022-04-21T13:35:28.427901Z",
     "iopub.status.busy": "2022-04-21T13:35:28.427654Z",
     "iopub.status.idle": "2022-04-21T13:35:28.435468Z",
     "shell.execute_reply": "2022-04-21T13:35:28.434605Z"
    },
    "papermill": {
     "duration": 0.1323,
     "end_time": "2022-04-21T13:35:28.437304",
     "exception": false,
     "start_time": "2022-04-21T13:35:28.305004",
     "status": "completed"
    },
    "tags": []
   },
   "outputs": [
    {
     "data": {
      "text/plain": [
       "seller_id                  0\n",
       "seller_zip_code_prefix     0\n",
       "seller_city               57\n",
       "seller_state              57\n",
       "dtype: int64"
      ]
     },
     "execution_count": 15,
     "metadata": {},
     "output_type": "execute_result"
    }
   ],
   "source": [
    "sellers.isna().sum()"
   ]
  },
  {
   "cell_type": "markdown",
   "id": "59278d07",
   "metadata": {
    "papermill": {
     "duration": 0.118366,
     "end_time": "2022-04-21T13:35:28.683076",
     "exception": false,
     "start_time": "2022-04-21T13:35:28.564710",
     "status": "completed"
    },
    "tags": []
   },
   "source": [
    "### products\n"
   ]
  },
  {
   "cell_type": "code",
   "execution_count": 16,
   "id": "aad2b924",
   "metadata": {
    "execution": {
     "iopub.execute_input": "2022-04-21T13:35:28.921369Z",
     "iopub.status.busy": "2022-04-21T13:35:28.920936Z",
     "iopub.status.idle": "2022-04-21T13:35:28.935162Z",
     "shell.execute_reply": "2022-04-21T13:35:28.934311Z"
    },
    "papermill": {
     "duration": 0.13587,
     "end_time": "2022-04-21T13:35:28.937071",
     "exception": false,
     "start_time": "2022-04-21T13:35:28.801201",
     "status": "completed"
    },
    "tags": []
   },
   "outputs": [
    {
     "name": "stdout",
     "output_type": "stream",
     "text": [
      "<class 'pandas.core.frame.DataFrame'>\n",
      "RangeIndex: 32951 entries, 0 to 32950\n",
      "Data columns (total 9 columns):\n",
      " #   Column                      Non-Null Count  Dtype  \n",
      "---  ------                      --------------  -----  \n",
      " 0   product_id                  32951 non-null  object \n",
      " 1   product_category_name       32328 non-null  object \n",
      " 2   product_name_lenght         32341 non-null  float64\n",
      " 3   product_description_lenght  32341 non-null  float64\n",
      " 4   product_photos_qty          32341 non-null  float64\n",
      " 5   product_weight_g            32949 non-null  float64\n",
      " 6   product_length_cm           32949 non-null  float64\n",
      " 7   product_height_cm           32949 non-null  float64\n",
      " 8   product_width_cm            32949 non-null  float64\n",
      "dtypes: float64(7), object(2)\n",
      "memory usage: 2.3+ MB\n"
     ]
    }
   ],
   "source": [
    "products.info()"
   ]
  },
  {
   "cell_type": "code",
   "execution_count": 17,
   "id": "c441e022",
   "metadata": {
    "execution": {
     "iopub.execute_input": "2022-04-21T13:35:29.179329Z",
     "iopub.status.busy": "2022-04-21T13:35:29.178917Z",
     "iopub.status.idle": "2022-04-21T13:35:29.189723Z",
     "shell.execute_reply": "2022-04-21T13:35:29.189117Z"
    },
    "papermill": {
     "duration": 0.135555,
     "end_time": "2022-04-21T13:35:29.191360",
     "exception": false,
     "start_time": "2022-04-21T13:35:29.055805",
     "status": "completed"
    },
    "tags": []
   },
   "outputs": [
    {
     "data": {
      "text/plain": [
       "product_id                      0\n",
       "product_category_name         623\n",
       "product_name_lenght           610\n",
       "product_description_lenght    610\n",
       "product_photos_qty            610\n",
       "product_weight_g                2\n",
       "product_length_cm               2\n",
       "product_height_cm               2\n",
       "product_width_cm                2\n",
       "dtype: int64"
      ]
     },
     "execution_count": 17,
     "metadata": {},
     "output_type": "execute_result"
    }
   ],
   "source": [
    "products.isna().sum()"
   ]
  },
  {
   "cell_type": "markdown",
   "id": "93a68019",
   "metadata": {
    "papermill": {
     "duration": 0.119156,
     "end_time": "2022-04-21T13:35:29.428835",
     "exception": false,
     "start_time": "2022-04-21T13:35:29.309679",
     "status": "completed"
    },
    "tags": []
   },
   "source": [
    "### order_items"
   ]
  },
  {
   "cell_type": "code",
   "execution_count": 18,
   "id": "c0e0574b",
   "metadata": {
    "execution": {
     "iopub.execute_input": "2022-04-21T13:35:29.669478Z",
     "iopub.status.busy": "2022-04-21T13:35:29.668813Z",
     "iopub.status.idle": "2022-04-21T13:35:29.701050Z",
     "shell.execute_reply": "2022-04-21T13:35:29.700522Z"
    },
    "papermill": {
     "duration": 0.154497,
     "end_time": "2022-04-21T13:35:29.702949",
     "exception": false,
     "start_time": "2022-04-21T13:35:29.548452",
     "status": "completed"
    },
    "tags": []
   },
   "outputs": [
    {
     "name": "stdout",
     "output_type": "stream",
     "text": [
      "<class 'pandas.core.frame.DataFrame'>\n",
      "RangeIndex: 112650 entries, 0 to 112649\n",
      "Data columns (total 7 columns):\n",
      " #   Column               Non-Null Count   Dtype  \n",
      "---  ------               --------------   -----  \n",
      " 0   order_id             112650 non-null  object \n",
      " 1   order_item_id        112650 non-null  int64  \n",
      " 2   product_id           112650 non-null  object \n",
      " 3   seller_id            112650 non-null  object \n",
      " 4   shipping_limit_date  112650 non-null  object \n",
      " 5   price                112650 non-null  float64\n",
      " 6   freight_value        112650 non-null  float64\n",
      "dtypes: float64(2), int64(1), object(4)\n",
      "memory usage: 6.0+ MB\n"
     ]
    }
   ],
   "source": [
    "order_items.info()"
   ]
  },
  {
   "cell_type": "code",
   "execution_count": 19,
   "id": "27cd3682",
   "metadata": {
    "execution": {
     "iopub.execute_input": "2022-04-21T13:35:29.945592Z",
     "iopub.status.busy": "2022-04-21T13:35:29.945034Z",
     "iopub.status.idle": "2022-04-21T13:35:29.974078Z",
     "shell.execute_reply": "2022-04-21T13:35:29.973156Z"
    },
    "papermill": {
     "duration": 0.152751,
     "end_time": "2022-04-21T13:35:29.976165",
     "exception": false,
     "start_time": "2022-04-21T13:35:29.823414",
     "status": "completed"
    },
    "tags": []
   },
   "outputs": [
    {
     "data": {
      "text/plain": [
       "order_id               0\n",
       "order_item_id          0\n",
       "product_id             0\n",
       "seller_id              0\n",
       "shipping_limit_date    0\n",
       "price                  0\n",
       "freight_value          0\n",
       "dtype: int64"
      ]
     },
     "execution_count": 19,
     "metadata": {},
     "output_type": "execute_result"
    }
   ],
   "source": [
    "order_items.isna().sum()"
   ]
  },
  {
   "cell_type": "markdown",
   "id": "819c144d",
   "metadata": {
    "papermill": {
     "duration": 0.123588,
     "end_time": "2022-04-21T13:35:30.221247",
     "exception": false,
     "start_time": "2022-04-21T13:35:30.097659",
     "status": "completed"
    },
    "tags": []
   },
   "source": [
    "### order_payments"
   ]
  },
  {
   "cell_type": "code",
   "execution_count": 20,
   "id": "d3f99317",
   "metadata": {
    "execution": {
     "iopub.execute_input": "2022-04-21T13:35:30.462775Z",
     "iopub.status.busy": "2022-04-21T13:35:30.462235Z",
     "iopub.status.idle": "2022-04-21T13:35:30.483440Z",
     "shell.execute_reply": "2022-04-21T13:35:30.482324Z"
    },
    "papermill": {
     "duration": 0.144385,
     "end_time": "2022-04-21T13:35:30.485349",
     "exception": false,
     "start_time": "2022-04-21T13:35:30.340964",
     "status": "completed"
    },
    "tags": []
   },
   "outputs": [
    {
     "name": "stdout",
     "output_type": "stream",
     "text": [
      "<class 'pandas.core.frame.DataFrame'>\n",
      "RangeIndex: 103886 entries, 0 to 103885\n",
      "Data columns (total 5 columns):\n",
      " #   Column                Non-Null Count   Dtype  \n",
      "---  ------                --------------   -----  \n",
      " 0   order_id              103886 non-null  object \n",
      " 1   payment_sequential    103886 non-null  int64  \n",
      " 2   payment_type          103886 non-null  object \n",
      " 3   payment_installments  103886 non-null  int64  \n",
      " 4   payment_value         103886 non-null  float64\n",
      "dtypes: float64(1), int64(2), object(2)\n",
      "memory usage: 4.0+ MB\n"
     ]
    }
   ],
   "source": [
    "order_payments.info()"
   ]
  },
  {
   "cell_type": "markdown",
   "id": "e1d695ea",
   "metadata": {
    "papermill": {
     "duration": 0.119884,
     "end_time": "2022-04-21T13:35:30.724944",
     "exception": false,
     "start_time": "2022-04-21T13:35:30.605060",
     "status": "completed"
    },
    "tags": []
   },
   "source": [
    "### orders"
   ]
  },
  {
   "cell_type": "code",
   "execution_count": 21,
   "id": "d53edcfc",
   "metadata": {
    "execution": {
     "iopub.execute_input": "2022-04-21T13:35:30.970639Z",
     "iopub.status.busy": "2022-04-21T13:35:30.970093Z",
     "iopub.status.idle": "2022-04-21T13:35:31.017209Z",
     "shell.execute_reply": "2022-04-21T13:35:31.016363Z"
    },
    "papermill": {
     "duration": 0.170899,
     "end_time": "2022-04-21T13:35:31.019597",
     "exception": false,
     "start_time": "2022-04-21T13:35:30.848698",
     "status": "completed"
    },
    "tags": []
   },
   "outputs": [
    {
     "name": "stdout",
     "output_type": "stream",
     "text": [
      "<class 'pandas.core.frame.DataFrame'>\n",
      "RangeIndex: 99441 entries, 0 to 99440\n",
      "Data columns (total 8 columns):\n",
      " #   Column                         Non-Null Count  Dtype \n",
      "---  ------                         --------------  ----- \n",
      " 0   order_id                       99441 non-null  object\n",
      " 1   customer_id                    99441 non-null  object\n",
      " 2   order_status                   99441 non-null  object\n",
      " 3   order_purchase_timestamp       99441 non-null  object\n",
      " 4   order_approved_at              99281 non-null  object\n",
      " 5   order_delivered_carrier_date   97658 non-null  object\n",
      " 6   order_delivered_customer_date  96476 non-null  object\n",
      " 7   order_estimated_delivery_date  99441 non-null  object\n",
      "dtypes: object(8)\n",
      "memory usage: 6.1+ MB\n"
     ]
    }
   ],
   "source": [
    "orders.info()"
   ]
  },
  {
   "cell_type": "markdown",
   "id": "628703dc",
   "metadata": {
    "papermill": {
     "duration": 0.119953,
     "end_time": "2022-04-21T13:35:31.262595",
     "exception": false,
     "start_time": "2022-04-21T13:35:31.142642",
     "status": "completed"
    },
    "tags": []
   },
   "source": [
    "### order_review_ratings"
   ]
  },
  {
   "cell_type": "code",
   "execution_count": 22,
   "id": "96da8ef0",
   "metadata": {
    "execution": {
     "iopub.execute_input": "2022-04-21T13:35:31.506341Z",
     "iopub.status.busy": "2022-04-21T13:35:31.506034Z",
     "iopub.status.idle": "2022-04-21T13:35:31.535744Z",
     "shell.execute_reply": "2022-04-21T13:35:31.534821Z"
    },
    "papermill": {
     "duration": 0.153764,
     "end_time": "2022-04-21T13:35:31.537541",
     "exception": false,
     "start_time": "2022-04-21T13:35:31.383777",
     "status": "completed"
    },
    "tags": []
   },
   "outputs": [
    {
     "name": "stdout",
     "output_type": "stream",
     "text": [
      "<class 'pandas.core.frame.DataFrame'>\n",
      "RangeIndex: 100000 entries, 0 to 99999\n",
      "Data columns (total 5 columns):\n",
      " #   Column                   Non-Null Count   Dtype \n",
      "---  ------                   --------------   ----- \n",
      " 0   review_id                100000 non-null  object\n",
      " 1   order_id                 100000 non-null  object\n",
      " 2   review_score             100000 non-null  int64 \n",
      " 3   review_creation_date     100000 non-null  object\n",
      " 4   review_answer_timestamp  100000 non-null  object\n",
      "dtypes: int64(1), object(4)\n",
      "memory usage: 3.8+ MB\n"
     ]
    }
   ],
   "source": [
    "order_review_ratings.info()"
   ]
  },
  {
   "cell_type": "markdown",
   "id": "883b7a0d",
   "metadata": {
    "papermill": {
     "duration": 0.12174,
     "end_time": "2022-04-21T13:35:31.786000",
     "exception": false,
     "start_time": "2022-04-21T13:35:31.664260",
     "status": "completed"
    },
    "tags": []
   },
   "source": [
    "### geo_location"
   ]
  },
  {
   "cell_type": "code",
   "execution_count": 23,
   "id": "37a626eb",
   "metadata": {
    "execution": {
     "iopub.execute_input": "2022-04-21T13:35:32.030426Z",
     "iopub.status.busy": "2022-04-21T13:35:32.029885Z",
     "iopub.status.idle": "2022-04-21T13:35:32.042175Z",
     "shell.execute_reply": "2022-04-21T13:35:32.041210Z"
    },
    "papermill": {
     "duration": 0.137151,
     "end_time": "2022-04-21T13:35:32.044069",
     "exception": false,
     "start_time": "2022-04-21T13:35:31.906918",
     "status": "completed"
    },
    "tags": []
   },
   "outputs": [
    {
     "name": "stdout",
     "output_type": "stream",
     "text": [
      "<class 'pandas.core.frame.DataFrame'>\n",
      "RangeIndex: 19015 entries, 0 to 19014\n",
      "Data columns (total 5 columns):\n",
      " #   Column                       Non-Null Count  Dtype  \n",
      "---  ------                       --------------  -----  \n",
      " 0   geolocation_zip_code_prefix  19015 non-null  int64  \n",
      " 1   geolocation_lat              19015 non-null  float64\n",
      " 2   geolocation_lng              19015 non-null  float64\n",
      " 3   geolocation_city             19015 non-null  object \n",
      " 4   geolocation_state            19015 non-null  object \n",
      "dtypes: float64(2), int64(1), object(2)\n",
      "memory usage: 742.9+ KB\n"
     ]
    }
   ],
   "source": [
    "geo_location.info()"
   ]
  },
  {
   "cell_type": "code",
   "execution_count": 24,
   "id": "70bf2b63",
   "metadata": {
    "execution": {
     "iopub.execute_input": "2022-04-21T13:35:32.293295Z",
     "iopub.status.busy": "2022-04-21T13:35:32.292788Z",
     "iopub.status.idle": "2022-04-21T13:35:32.301299Z",
     "shell.execute_reply": "2022-04-21T13:35:32.300774Z"
    },
    "papermill": {
     "duration": 0.135977,
     "end_time": "2022-04-21T13:35:32.302948",
     "exception": false,
     "start_time": "2022-04-21T13:35:32.166971",
     "status": "completed"
    },
    "tags": []
   },
   "outputs": [
    {
     "data": {
      "text/plain": [
       "geolocation_zip_code_prefix    0\n",
       "geolocation_lat                0\n",
       "geolocation_lng                0\n",
       "geolocation_city               0\n",
       "geolocation_state              0\n",
       "dtype: int64"
      ]
     },
     "execution_count": 24,
     "metadata": {},
     "output_type": "execute_result"
    }
   ],
   "source": [
    "geo_location.isna().sum()"
   ]
  },
  {
   "cell_type": "code",
   "execution_count": 25,
   "id": "32b54301",
   "metadata": {
    "execution": {
     "iopub.execute_input": "2022-04-21T13:35:32.550660Z",
     "iopub.status.busy": "2022-04-21T13:35:32.550089Z",
     "iopub.status.idle": "2022-04-21T13:35:32.553621Z",
     "shell.execute_reply": "2022-04-21T13:35:32.553033Z"
    },
    "papermill": {
     "duration": 0.128872,
     "end_time": "2022-04-21T13:35:32.555211",
     "exception": false,
     "start_time": "2022-04-21T13:35:32.426339",
     "status": "completed"
    },
    "tags": []
   },
   "outputs": [],
   "source": [
    "# merging data sets"
   ]
  },
  {
   "cell_type": "code",
   "execution_count": 26,
   "id": "0e2deccb",
   "metadata": {
    "execution": {
     "iopub.execute_input": "2022-04-21T13:35:32.800634Z",
     "iopub.status.busy": "2022-04-21T13:35:32.800083Z",
     "iopub.status.idle": "2022-04-21T13:35:32.931925Z",
     "shell.execute_reply": "2022-04-21T13:35:32.931083Z"
    },
    "papermill": {
     "duration": 0.257797,
     "end_time": "2022-04-21T13:35:32.934554",
     "exception": false,
     "start_time": "2022-04-21T13:35:32.676757",
     "status": "completed"
    },
    "tags": []
   },
   "outputs": [],
   "source": [
    "orderpayments_value=order_payments.groupby('order_id').payment_value.sum().reset_index()"
   ]
  },
  {
   "cell_type": "code",
   "execution_count": 27,
   "id": "374261af",
   "metadata": {
    "execution": {
     "iopub.execute_input": "2022-04-21T13:35:33.180778Z",
     "iopub.status.busy": "2022-04-21T13:35:33.180504Z",
     "iopub.status.idle": "2022-04-21T13:35:33.320722Z",
     "shell.execute_reply": "2022-04-21T13:35:33.319882Z"
    },
    "papermill": {
     "duration": 0.264952,
     "end_time": "2022-04-21T13:35:33.323049",
     "exception": false,
     "start_time": "2022-04-21T13:35:33.058097",
     "status": "completed"
    },
    "tags": []
   },
   "outputs": [],
   "source": [
    "order_review_rate_avg=order_review_ratings.groupby('order_id').review_score.mean().reset_index()"
   ]
  },
  {
   "cell_type": "code",
   "execution_count": 28,
   "id": "165f30b5",
   "metadata": {
    "execution": {
     "iopub.execute_input": "2022-04-21T13:35:33.567274Z",
     "iopub.status.busy": "2022-04-21T13:35:33.566769Z",
     "iopub.status.idle": "2022-04-21T13:35:33.678157Z",
     "shell.execute_reply": "2022-04-21T13:35:33.677389Z"
    },
    "papermill": {
     "duration": 0.23645,
     "end_time": "2022-04-21T13:35:33.680403",
     "exception": false,
     "start_time": "2022-04-21T13:35:33.443953",
     "status": "completed"
    },
    "tags": []
   },
   "outputs": [],
   "source": [
    "data=orders.merge(orderpayments_value,on='order_id')"
   ]
  },
  {
   "cell_type": "code",
   "execution_count": 29,
   "id": "43cfcaf6",
   "metadata": {
    "execution": {
     "iopub.execute_input": "2022-04-21T13:35:33.958022Z",
     "iopub.status.busy": "2022-04-21T13:35:33.957743Z",
     "iopub.status.idle": "2022-04-21T13:35:34.092340Z",
     "shell.execute_reply": "2022-04-21T13:35:34.091373Z"
    },
    "papermill": {
     "duration": 0.280926,
     "end_time": "2022-04-21T13:35:34.094614",
     "exception": false,
     "start_time": "2022-04-21T13:35:33.813688",
     "status": "completed"
    },
    "tags": []
   },
   "outputs": [],
   "source": [
    "data=data.merge(customers,on='customer_id')"
   ]
  },
  {
   "cell_type": "code",
   "execution_count": 30,
   "id": "6e2c913e",
   "metadata": {
    "execution": {
     "iopub.execute_input": "2022-04-21T13:35:34.341302Z",
     "iopub.status.busy": "2022-04-21T13:35:34.341041Z",
     "iopub.status.idle": "2022-04-21T13:35:34.476335Z",
     "shell.execute_reply": "2022-04-21T13:35:34.475503Z"
    },
    "papermill": {
     "duration": 0.259546,
     "end_time": "2022-04-21T13:35:34.478635",
     "exception": false,
     "start_time": "2022-04-21T13:35:34.219089",
     "status": "completed"
    },
    "tags": []
   },
   "outputs": [],
   "source": [
    "data=data.merge(order_items,how='left',on='order_id')"
   ]
  },
  {
   "cell_type": "code",
   "execution_count": 31,
   "id": "b02ae3f2",
   "metadata": {
    "execution": {
     "iopub.execute_input": "2022-04-21T13:35:34.727839Z",
     "iopub.status.busy": "2022-04-21T13:35:34.727341Z",
     "iopub.status.idle": "2022-04-21T13:35:34.813282Z",
     "shell.execute_reply": "2022-04-21T13:35:34.812683Z"
    },
    "papermill": {
     "duration": 0.211857,
     "end_time": "2022-04-21T13:35:34.815246",
     "exception": false,
     "start_time": "2022-04-21T13:35:34.603389",
     "status": "completed"
    },
    "tags": []
   },
   "outputs": [],
   "source": [
    "data=data.merge(products,how='left',on='product_id')"
   ]
  },
  {
   "cell_type": "code",
   "execution_count": 32,
   "id": "3e46d8b7",
   "metadata": {
    "execution": {
     "iopub.execute_input": "2022-04-21T13:35:35.065338Z",
     "iopub.status.busy": "2022-04-21T13:35:35.064736Z",
     "iopub.status.idle": "2022-04-21T13:35:35.136115Z",
     "shell.execute_reply": "2022-04-21T13:35:35.135448Z"
    },
    "papermill": {
     "duration": 0.197859,
     "end_time": "2022-04-21T13:35:35.138065",
     "exception": false,
     "start_time": "2022-04-21T13:35:34.940206",
     "status": "completed"
    },
    "tags": []
   },
   "outputs": [],
   "source": [
    "data=data.merge(sellers,how='left',on='seller_id')"
   ]
  },
  {
   "cell_type": "code",
   "execution_count": 33,
   "id": "a91d3e3d",
   "metadata": {
    "execution": {
     "iopub.execute_input": "2022-04-21T13:35:35.388046Z",
     "iopub.status.busy": "2022-04-21T13:35:35.387554Z",
     "iopub.status.idle": "2022-04-21T13:35:35.520353Z",
     "shell.execute_reply": "2022-04-21T13:35:35.519689Z"
    },
    "papermill": {
     "duration": 0.257948,
     "end_time": "2022-04-21T13:35:35.522527",
     "exception": false,
     "start_time": "2022-04-21T13:35:35.264579",
     "status": "completed"
    },
    "tags": []
   },
   "outputs": [],
   "source": [
    "data=data.merge(order_review_rate_avg,how='left',on='order_id')"
   ]
  },
  {
   "cell_type": "code",
   "execution_count": 34,
   "id": "110c6251",
   "metadata": {
    "execution": {
     "iopub.execute_input": "2022-04-21T13:35:35.771753Z",
     "iopub.status.busy": "2022-04-21T13:35:35.771270Z",
     "iopub.status.idle": "2022-04-21T13:35:35.775605Z",
     "shell.execute_reply": "2022-04-21T13:35:35.775084Z"
    },
    "papermill": {
     "duration": 0.130323,
     "end_time": "2022-04-21T13:35:35.777113",
     "exception": false,
     "start_time": "2022-04-21T13:35:35.646790",
     "status": "completed"
    },
    "tags": []
   },
   "outputs": [
    {
     "data": {
      "text/plain": [
       "(113422, 31)"
      ]
     },
     "execution_count": 34,
     "metadata": {},
     "output_type": "execute_result"
    }
   ],
   "source": [
    "data.shape"
   ]
  },
  {
   "cell_type": "code",
   "execution_count": 35,
   "id": "96b77305",
   "metadata": {
    "execution": {
     "iopub.execute_input": "2022-04-21T13:35:36.026319Z",
     "iopub.status.busy": "2022-04-21T13:35:36.025896Z",
     "iopub.status.idle": "2022-04-21T13:35:36.135824Z",
     "shell.execute_reply": "2022-04-21T13:35:36.135283Z"
    },
    "papermill": {
     "duration": 0.23867,
     "end_time": "2022-04-21T13:35:36.137594",
     "exception": false,
     "start_time": "2022-04-21T13:35:35.898924",
     "status": "completed"
    },
    "tags": []
   },
   "outputs": [
    {
     "data": {
      "text/plain": [
       "order_id                            0\n",
       "customer_id                         0\n",
       "order_status                        0\n",
       "order_purchase_timestamp            0\n",
       "order_approved_at                 161\n",
       "order_delivered_carrier_date     1968\n",
       "order_delivered_customer_date    3229\n",
       "order_estimated_delivery_date       0\n",
       "payment_value                       0\n",
       "customer_unique_id                  0\n",
       "customer_zip_code_prefix            0\n",
       "customer_city                       0\n",
       "customer_state                      0\n",
       "order_item_id                     775\n",
       "product_id                        775\n",
       "seller_id                         775\n",
       "shipping_limit_date               775\n",
       "price                             775\n",
       "freight_value                     775\n",
       "product_category_name            2402\n",
       "product_name_lenght              2378\n",
       "product_description_lenght       2378\n",
       "product_photos_qty               2378\n",
       "product_weight_g                  793\n",
       "product_length_cm                 793\n",
       "product_height_cm                 793\n",
       "product_width_cm                  793\n",
       "seller_zip_code_prefix            775\n",
       "seller_city                      2342\n",
       "seller_state                     2342\n",
       "review_score                        0\n",
       "dtype: int64"
      ]
     },
     "execution_count": 35,
     "metadata": {},
     "output_type": "execute_result"
    }
   ],
   "source": [
    "data.isna().sum()"
   ]
  },
  {
   "cell_type": "code",
   "execution_count": 36,
   "id": "19699b65",
   "metadata": {
    "execution": {
     "iopub.execute_input": "2022-04-21T13:35:36.388940Z",
     "iopub.status.busy": "2022-04-21T13:35:36.388502Z",
     "iopub.status.idle": "2022-04-21T13:35:36.511728Z",
     "shell.execute_reply": "2022-04-21T13:35:36.510709Z"
    },
    "papermill": {
     "duration": 0.250997,
     "end_time": "2022-04-21T13:35:36.514005",
     "exception": false,
     "start_time": "2022-04-21T13:35:36.263008",
     "status": "completed"
    },
    "tags": []
   },
   "outputs": [],
   "source": [
    "data=data.drop(columns=['order_approved_at','order_delivered_carrier_date','order_estimated_delivery_date','order_delivered_customer_date','shipping_limit_date','product_name_lenght','product_description_lenght','product_photos_qty','product_weight_g','product_length_cm','product_height_cm','product_height_cm','product_width_cm','seller_city','seller_state','seller_zip_code_prefix'])"
   ]
  },
  {
   "cell_type": "code",
   "execution_count": 37,
   "id": "21a9ff62",
   "metadata": {
    "execution": {
     "iopub.execute_input": "2022-04-21T13:35:36.769050Z",
     "iopub.status.busy": "2022-04-21T13:35:36.768664Z",
     "iopub.status.idle": "2022-04-21T13:35:36.835953Z",
     "shell.execute_reply": "2022-04-21T13:35:36.835080Z"
    },
    "papermill": {
     "duration": 0.192995,
     "end_time": "2022-04-21T13:35:36.837788",
     "exception": false,
     "start_time": "2022-04-21T13:35:36.644793",
     "status": "completed"
    },
    "tags": []
   },
   "outputs": [
    {
     "data": {
      "text/plain": [
       "order_id                       0\n",
       "customer_id                    0\n",
       "order_status                   0\n",
       "order_purchase_timestamp       0\n",
       "payment_value                  0\n",
       "customer_unique_id             0\n",
       "customer_zip_code_prefix       0\n",
       "customer_city                  0\n",
       "customer_state                 0\n",
       "order_item_id                775\n",
       "product_id                   775\n",
       "seller_id                    775\n",
       "price                        775\n",
       "freight_value                775\n",
       "product_category_name       2402\n",
       "review_score                   0\n",
       "dtype: int64"
      ]
     },
     "execution_count": 37,
     "metadata": {},
     "output_type": "execute_result"
    }
   ],
   "source": [
    "data.isna().sum()"
   ]
  },
  {
   "cell_type": "code",
   "execution_count": 38,
   "id": "7c73925b",
   "metadata": {
    "execution": {
     "iopub.execute_input": "2022-04-21T13:35:37.088355Z",
     "iopub.status.busy": "2022-04-21T13:35:37.087697Z",
     "iopub.status.idle": "2022-04-21T13:35:37.096403Z",
     "shell.execute_reply": "2022-04-21T13:35:37.095687Z"
    },
    "papermill": {
     "duration": 0.137331,
     "end_time": "2022-04-21T13:35:37.098593",
     "exception": false,
     "start_time": "2022-04-21T13:35:36.961262",
     "status": "completed"
    },
    "tags": []
   },
   "outputs": [],
   "source": [
    "data['order_item_id']=data['order_item_id'].fillna(data['order_item_id'].median())"
   ]
  },
  {
   "cell_type": "code",
   "execution_count": 39,
   "id": "ab254fe6",
   "metadata": {
    "execution": {
     "iopub.execute_input": "2022-04-21T13:35:37.347763Z",
     "iopub.status.busy": "2022-04-21T13:35:37.347491Z",
     "iopub.status.idle": "2022-04-21T13:35:37.375971Z",
     "shell.execute_reply": "2022-04-21T13:35:37.375323Z"
    },
    "papermill": {
     "duration": 0.153991,
     "end_time": "2022-04-21T13:35:37.377956",
     "exception": false,
     "start_time": "2022-04-21T13:35:37.223965",
     "status": "completed"
    },
    "tags": []
   },
   "outputs": [],
   "source": [
    "col=['product_id','seller_id','product_category_name']\n",
    "for i in col:\n",
    "    data[i]=data[i].fillna('unknown')"
   ]
  },
  {
   "cell_type": "code",
   "execution_count": 40,
   "id": "ebeeb0e0",
   "metadata": {
    "execution": {
     "iopub.execute_input": "2022-04-21T13:35:37.624965Z",
     "iopub.status.busy": "2022-04-21T13:35:37.624533Z",
     "iopub.status.idle": "2022-04-21T13:35:37.630043Z",
     "shell.execute_reply": "2022-04-21T13:35:37.629316Z"
    },
    "papermill": {
     "duration": 0.13162,
     "end_time": "2022-04-21T13:35:37.632059",
     "exception": false,
     "start_time": "2022-04-21T13:35:37.500439",
     "status": "completed"
    },
    "tags": []
   },
   "outputs": [],
   "source": [
    "# considering 90 percent of  payment value as price and 10 percent as freight_value\n",
    "data['price']=data['price'].fillna(0.90*(data.payment_value))"
   ]
  },
  {
   "cell_type": "code",
   "execution_count": 41,
   "id": "275c7de8",
   "metadata": {
    "execution": {
     "iopub.execute_input": "2022-04-21T13:35:37.883563Z",
     "iopub.status.busy": "2022-04-21T13:35:37.883298Z",
     "iopub.status.idle": "2022-04-21T13:35:37.889069Z",
     "shell.execute_reply": "2022-04-21T13:35:37.888232Z"
    },
    "papermill": {
     "duration": 0.133087,
     "end_time": "2022-04-21T13:35:37.890866",
     "exception": false,
     "start_time": "2022-04-21T13:35:37.757779",
     "status": "completed"
    },
    "tags": []
   },
   "outputs": [],
   "source": [
    "data['freight_value']=data['freight_value'].fillna(0.1*(data.payment_value))"
   ]
  },
  {
   "cell_type": "code",
   "execution_count": 42,
   "id": "91bcff97",
   "metadata": {
    "execution": {
     "iopub.execute_input": "2022-04-21T13:35:38.137685Z",
     "iopub.status.busy": "2022-04-21T13:35:38.137249Z",
     "iopub.status.idle": "2022-04-21T13:35:38.203736Z",
     "shell.execute_reply": "2022-04-21T13:35:38.203200Z"
    },
    "papermill": {
     "duration": 0.190622,
     "end_time": "2022-04-21T13:35:38.205378",
     "exception": false,
     "start_time": "2022-04-21T13:35:38.014756",
     "status": "completed"
    },
    "tags": []
   },
   "outputs": [
    {
     "data": {
      "text/plain": [
       "order_id                    0\n",
       "customer_id                 0\n",
       "order_status                0\n",
       "order_purchase_timestamp    0\n",
       "payment_value               0\n",
       "customer_unique_id          0\n",
       "customer_zip_code_prefix    0\n",
       "customer_city               0\n",
       "customer_state              0\n",
       "order_item_id               0\n",
       "product_id                  0\n",
       "seller_id                   0\n",
       "price                       0\n",
       "freight_value               0\n",
       "product_category_name       0\n",
       "review_score                0\n",
       "dtype: int64"
      ]
     },
     "execution_count": 42,
     "metadata": {},
     "output_type": "execute_result"
    }
   ],
   "source": [
    "data.isna().sum()"
   ]
  },
  {
   "cell_type": "code",
   "execution_count": 43,
   "id": "3c6c042d",
   "metadata": {
    "execution": {
     "iopub.execute_input": "2022-04-21T13:35:38.451231Z",
     "iopub.status.busy": "2022-04-21T13:35:38.450799Z",
     "iopub.status.idle": "2022-04-21T13:35:38.521639Z",
     "shell.execute_reply": "2022-04-21T13:35:38.520683Z"
    },
    "papermill": {
     "duration": 0.196889,
     "end_time": "2022-04-21T13:35:38.524317",
     "exception": false,
     "start_time": "2022-04-21T13:35:38.327428",
     "status": "completed"
    },
    "tags": []
   },
   "outputs": [
    {
     "name": "stdout",
     "output_type": "stream",
     "text": [
      "<class 'pandas.core.frame.DataFrame'>\n",
      "Int64Index: 113422 entries, 0 to 113421\n",
      "Data columns (total 16 columns):\n",
      " #   Column                    Non-Null Count   Dtype  \n",
      "---  ------                    --------------   -----  \n",
      " 0   order_id                  113422 non-null  object \n",
      " 1   customer_id               113422 non-null  object \n",
      " 2   order_status              113422 non-null  object \n",
      " 3   order_purchase_timestamp  113422 non-null  object \n",
      " 4   payment_value             113422 non-null  float64\n",
      " 5   customer_unique_id        113422 non-null  object \n",
      " 6   customer_zip_code_prefix  113422 non-null  int64  \n",
      " 7   customer_city             113422 non-null  object \n",
      " 8   customer_state            113422 non-null  object \n",
      " 9   order_item_id             113422 non-null  float64\n",
      " 10  product_id                113422 non-null  object \n",
      " 11  seller_id                 113422 non-null  object \n",
      " 12  price                     113422 non-null  float64\n",
      " 13  freight_value             113422 non-null  float64\n",
      " 14  product_category_name     113422 non-null  object \n",
      " 15  review_score              113422 non-null  float64\n",
      "dtypes: float64(5), int64(1), object(10)\n",
      "memory usage: 14.7+ MB\n"
     ]
    }
   ],
   "source": [
    "data.info()"
   ]
  },
  {
   "cell_type": "code",
   "execution_count": 44,
   "id": "448cebc7",
   "metadata": {
    "execution": {
     "iopub.execute_input": "2022-04-21T13:35:38.773848Z",
     "iopub.status.busy": "2022-04-21T13:35:38.773572Z",
     "iopub.status.idle": "2022-04-21T13:35:48.114354Z",
     "shell.execute_reply": "2022-04-21T13:35:48.113673Z"
    },
    "papermill": {
     "duration": 9.466287,
     "end_time": "2022-04-21T13:35:48.116587",
     "exception": false,
     "start_time": "2022-04-21T13:35:38.650300",
     "status": "completed"
    },
    "tags": []
   },
   "outputs": [],
   "source": [
    "data.order_purchase_timestamp=pd.to_datetime(data.order_purchase_timestamp)"
   ]
  },
  {
   "cell_type": "code",
   "execution_count": 45,
   "id": "5bf0b699",
   "metadata": {
    "execution": {
     "iopub.execute_input": "2022-04-21T13:35:48.363480Z",
     "iopub.status.busy": "2022-04-21T13:35:48.362727Z",
     "iopub.status.idle": "2022-04-21T13:35:48.380329Z",
     "shell.execute_reply": "2022-04-21T13:35:48.379641Z"
    },
    "papermill": {
     "duration": 0.143197,
     "end_time": "2022-04-21T13:35:48.382053",
     "exception": false,
     "start_time": "2022-04-21T13:35:48.238856",
     "status": "completed"
    },
    "tags": []
   },
   "outputs": [],
   "source": [
    "data['year']=data.order_purchase_timestamp.dt.year"
   ]
  },
  {
   "cell_type": "code",
   "execution_count": 46,
   "id": "9b4b685b",
   "metadata": {
    "execution": {
     "iopub.execute_input": "2022-04-21T13:35:48.628988Z",
     "iopub.status.busy": "2022-04-21T13:35:48.628296Z",
     "iopub.status.idle": "2022-04-21T13:35:48.663969Z",
     "shell.execute_reply": "2022-04-21T13:35:48.663390Z"
    },
    "papermill": {
     "duration": 0.161604,
     "end_time": "2022-04-21T13:35:48.665900",
     "exception": false,
     "start_time": "2022-04-21T13:35:48.504296",
     "status": "completed"
    },
    "tags": []
   },
   "outputs": [],
   "source": [
    "data['month']=data.order_purchase_timestamp.dt.month_name()"
   ]
  },
  {
   "cell_type": "code",
   "execution_count": 47,
   "id": "d424d0d3",
   "metadata": {
    "execution": {
     "iopub.execute_input": "2022-04-21T13:35:48.917206Z",
     "iopub.status.busy": "2022-04-21T13:35:48.916786Z",
     "iopub.status.idle": "2022-04-21T13:35:48.955848Z",
     "shell.execute_reply": "2022-04-21T13:35:48.955229Z"
    },
    "papermill": {
     "duration": 0.168505,
     "end_time": "2022-04-21T13:35:48.957911",
     "exception": false,
     "start_time": "2022-04-21T13:35:48.789406",
     "status": "completed"
    },
    "tags": []
   },
   "outputs": [],
   "source": [
    "data['week']=data.order_purchase_timestamp.dt.weekofyear"
   ]
  },
  {
   "cell_type": "code",
   "execution_count": 48,
   "id": "0ec8e729",
   "metadata": {
    "execution": {
     "iopub.execute_input": "2022-04-21T13:35:49.209708Z",
     "iopub.status.busy": "2022-04-21T13:35:49.209279Z",
     "iopub.status.idle": "2022-04-21T13:35:49.264007Z",
     "shell.execute_reply": "2022-04-21T13:35:49.263350Z"
    },
    "papermill": {
     "duration": 0.180909,
     "end_time": "2022-04-21T13:35:49.266039",
     "exception": false,
     "start_time": "2022-04-21T13:35:49.085130",
     "status": "completed"
    },
    "tags": []
   },
   "outputs": [],
   "source": [
    "data['time']=data.order_purchase_timestamp.dt.time"
   ]
  },
  {
   "cell_type": "code",
   "execution_count": 49,
   "id": "0d009b32",
   "metadata": {
    "execution": {
     "iopub.execute_input": "2022-04-21T13:35:49.519913Z",
     "iopub.status.busy": "2022-04-21T13:35:49.519010Z",
     "iopub.status.idle": "2022-04-21T13:35:49.558959Z",
     "shell.execute_reply": "2022-04-21T13:35:49.558164Z"
    },
    "papermill": {
     "duration": 0.17026,
     "end_time": "2022-04-21T13:35:49.561101",
     "exception": false,
     "start_time": "2022-04-21T13:35:49.390841",
     "status": "completed"
    },
    "tags": []
   },
   "outputs": [],
   "source": [
    "data['day']=data.order_purchase_timestamp.dt.date"
   ]
  },
  {
   "cell_type": "code",
   "execution_count": 50,
   "id": "3448f87e",
   "metadata": {
    "execution": {
     "iopub.execute_input": "2022-04-21T13:35:49.812400Z",
     "iopub.status.busy": "2022-04-21T13:35:49.811924Z",
     "iopub.status.idle": "2022-04-21T13:35:49.985426Z",
     "shell.execute_reply": "2022-04-21T13:35:49.984632Z"
    },
    "papermill": {
     "duration": 0.300806,
     "end_time": "2022-04-21T13:35:49.987854",
     "exception": false,
     "start_time": "2022-04-21T13:35:49.687048",
     "status": "completed"
    },
    "tags": []
   },
   "outputs": [],
   "source": [
    "data['month_year']=data.order_purchase_timestamp.dt.date.astype(str).str[0:7]"
   ]
  },
  {
   "cell_type": "code",
   "execution_count": 51,
   "id": "1805b07b",
   "metadata": {
    "execution": {
     "iopub.execute_input": "2022-04-21T13:35:50.238153Z",
     "iopub.status.busy": "2022-04-21T13:35:50.237714Z",
     "iopub.status.idle": "2022-04-21T13:35:50.242475Z",
     "shell.execute_reply": "2022-04-21T13:35:50.241942Z"
    },
    "papermill": {
     "duration": 0.130353,
     "end_time": "2022-04-21T13:35:50.244211",
     "exception": false,
     "start_time": "2022-04-21T13:35:50.113858",
     "status": "completed"
    },
    "tags": []
   },
   "outputs": [],
   "source": [
    "data['price_to_pay']=data['price']+data['freight_value']"
   ]
  },
  {
   "cell_type": "code",
   "execution_count": 52,
   "id": "c5c754fa",
   "metadata": {
    "execution": {
     "iopub.execute_input": "2022-04-21T13:35:50.491267Z",
     "iopub.status.busy": "2022-04-21T13:35:50.490802Z",
     "iopub.status.idle": "2022-04-21T13:35:50.578052Z",
     "shell.execute_reply": "2022-04-21T13:35:50.577498Z"
    },
    "papermill": {
     "duration": 0.213706,
     "end_time": "2022-04-21T13:35:50.580815",
     "exception": false,
     "start_time": "2022-04-21T13:35:50.367109",
     "status": "completed"
    },
    "tags": []
   },
   "outputs": [
    {
     "name": "stdout",
     "output_type": "stream",
     "text": [
      "<class 'pandas.core.frame.DataFrame'>\n",
      "Int64Index: 113422 entries, 0 to 113421\n",
      "Data columns (total 23 columns):\n",
      " #   Column                    Non-Null Count   Dtype         \n",
      "---  ------                    --------------   -----         \n",
      " 0   order_id                  113422 non-null  object        \n",
      " 1   customer_id               113422 non-null  object        \n",
      " 2   order_status              113422 non-null  object        \n",
      " 3   order_purchase_timestamp  113422 non-null  datetime64[ns]\n",
      " 4   payment_value             113422 non-null  float64       \n",
      " 5   customer_unique_id        113422 non-null  object        \n",
      " 6   customer_zip_code_prefix  113422 non-null  int64         \n",
      " 7   customer_city             113422 non-null  object        \n",
      " 8   customer_state            113422 non-null  object        \n",
      " 9   order_item_id             113422 non-null  float64       \n",
      " 10  product_id                113422 non-null  object        \n",
      " 11  seller_id                 113422 non-null  object        \n",
      " 12  price                     113422 non-null  float64       \n",
      " 13  freight_value             113422 non-null  float64       \n",
      " 14  product_category_name     113422 non-null  object        \n",
      " 15  review_score              113422 non-null  float64       \n",
      " 16  year                      113422 non-null  int64         \n",
      " 17  month                     113422 non-null  object        \n",
      " 18  week                      113422 non-null  int64         \n",
      " 19  time                      113422 non-null  object        \n",
      " 20  day                       113422 non-null  object        \n",
      " 21  month_year                113422 non-null  object        \n",
      " 22  price_to_pay              113422 non-null  float64       \n",
      "dtypes: datetime64[ns](1), float64(6), int64(3), object(13)\n",
      "memory usage: 20.8+ MB\n"
     ]
    }
   ],
   "source": [
    "data.info()"
   ]
  },
  {
   "cell_type": "code",
   "execution_count": 53,
   "id": "b4aa6563",
   "metadata": {
    "execution": {
     "iopub.execute_input": "2022-04-21T13:35:50.840428Z",
     "iopub.status.busy": "2022-04-21T13:35:50.839921Z",
     "iopub.status.idle": "2022-04-21T13:35:50.897696Z",
     "shell.execute_reply": "2022-04-21T13:35:50.896906Z"
    },
    "papermill": {
     "duration": 0.189459,
     "end_time": "2022-04-21T13:35:50.899581",
     "exception": false,
     "start_time": "2022-04-21T13:35:50.710122",
     "status": "completed"
    },
    "tags": []
   },
   "outputs": [
    {
     "data": {
      "text/plain": [
       "0"
      ]
     },
     "execution_count": 53,
     "metadata": {},
     "output_type": "execute_result"
    }
   ],
   "source": [
    "data.duplicated(['order_id','product_id','order_item_id']).sum()"
   ]
  },
  {
   "cell_type": "markdown",
   "id": "6b9c0413",
   "metadata": {
    "papermill": {
     "duration": 0.126768,
     "end_time": "2022-04-21T13:35:51.152300",
     "exception": false,
     "start_time": "2022-04-21T13:35:51.025532",
     "status": "completed"
    },
    "tags": []
   },
   "source": [
    "## a. Define & calculate high level metrics like (Total Revenue, Total quantity, Total products, Total categories, Total sellers, Total locations, Total channels, Total payment methods etc…)"
   ]
  },
  {
   "cell_type": "markdown",
   "id": "8189e9e5",
   "metadata": {
    "papermill": {
     "duration": 0.125334,
     "end_time": "2022-04-21T13:35:51.403686",
     "exception": false,
     "start_time": "2022-04-21T13:35:51.278352",
     "status": "completed"
    },
    "tags": []
   },
   "source": [
    "### Total Revenue"
   ]
  },
  {
   "cell_type": "code",
   "execution_count": 54,
   "id": "3b6860d7",
   "metadata": {
    "execution": {
     "iopub.execute_input": "2022-04-21T13:35:51.658961Z",
     "iopub.status.busy": "2022-04-21T13:35:51.658458Z",
     "iopub.status.idle": "2022-04-21T13:35:51.663485Z",
     "shell.execute_reply": "2022-04-21T13:35:51.662812Z"
    },
    "papermill": {
     "duration": 0.135345,
     "end_time": "2022-04-21T13:35:51.665082",
     "exception": false,
     "start_time": "2022-04-21T13:35:51.529737",
     "status": "completed"
    },
    "tags": []
   },
   "outputs": [
    {
     "data": {
      "text/plain": [
       "16006001.729999999"
      ]
     },
     "execution_count": 54,
     "metadata": {},
     "output_type": "execute_result"
    }
   ],
   "source": [
    "data.price_to_pay.sum()"
   ]
  },
  {
   "cell_type": "markdown",
   "id": "a1bb7db8",
   "metadata": {
    "papermill": {
     "duration": 0.125746,
     "end_time": "2022-04-21T13:35:51.914569",
     "exception": false,
     "start_time": "2022-04-21T13:35:51.788823",
     "status": "completed"
    },
    "tags": []
   },
   "source": [
    "### Total quantity"
   ]
  },
  {
   "cell_type": "code",
   "execution_count": 55,
   "id": "dacd7b55",
   "metadata": {
    "execution": {
     "iopub.execute_input": "2022-04-21T13:35:52.165836Z",
     "iopub.status.busy": "2022-04-21T13:35:52.165351Z",
     "iopub.status.idle": "2022-04-21T13:35:52.170138Z",
     "shell.execute_reply": "2022-04-21T13:35:52.169573Z"
    },
    "papermill": {
     "duration": 0.13205,
     "end_time": "2022-04-21T13:35:52.171705",
     "exception": false,
     "start_time": "2022-04-21T13:35:52.039655",
     "status": "completed"
    },
    "tags": []
   },
   "outputs": [
    {
     "data": {
      "text/plain": [
       "113422"
      ]
     },
     "execution_count": 55,
     "metadata": {},
     "output_type": "execute_result"
    }
   ],
   "source": [
    "data.order_item_id.count()"
   ]
  },
  {
   "cell_type": "markdown",
   "id": "0d31c189",
   "metadata": {
    "papermill": {
     "duration": 0.12348,
     "end_time": "2022-04-21T13:35:52.418844",
     "exception": false,
     "start_time": "2022-04-21T13:35:52.295364",
     "status": "completed"
    },
    "tags": []
   },
   "source": [
    "### Total products"
   ]
  },
  {
   "cell_type": "code",
   "execution_count": 56,
   "id": "55f6ad5f",
   "metadata": {
    "execution": {
     "iopub.execute_input": "2022-04-21T13:35:52.668839Z",
     "iopub.status.busy": "2022-04-21T13:35:52.668360Z",
     "iopub.status.idle": "2022-04-21T13:35:52.695737Z",
     "shell.execute_reply": "2022-04-21T13:35:52.695009Z"
    },
    "papermill": {
     "duration": 0.155356,
     "end_time": "2022-04-21T13:35:52.697522",
     "exception": false,
     "start_time": "2022-04-21T13:35:52.542166",
     "status": "completed"
    },
    "tags": []
   },
   "outputs": [
    {
     "data": {
      "text/plain": [
       "32952"
      ]
     },
     "execution_count": 56,
     "metadata": {},
     "output_type": "execute_result"
    }
   ],
   "source": [
    "data.product_id.nunique()"
   ]
  },
  {
   "cell_type": "markdown",
   "id": "1ea7b0fd",
   "metadata": {
    "papermill": {
     "duration": 0.123743,
     "end_time": "2022-04-21T13:35:52.946384",
     "exception": false,
     "start_time": "2022-04-21T13:35:52.822641",
     "status": "completed"
    },
    "tags": []
   },
   "source": [
    "### Total categories"
   ]
  },
  {
   "cell_type": "code",
   "execution_count": 57,
   "id": "a2f75ec9",
   "metadata": {
    "execution": {
     "iopub.execute_input": "2022-04-21T13:35:53.206386Z",
     "iopub.status.busy": "2022-04-21T13:35:53.205881Z",
     "iopub.status.idle": "2022-04-21T13:35:53.218778Z",
     "shell.execute_reply": "2022-04-21T13:35:53.218082Z"
    },
    "papermill": {
     "duration": 0.149131,
     "end_time": "2022-04-21T13:35:53.220430",
     "exception": false,
     "start_time": "2022-04-21T13:35:53.071299",
     "status": "completed"
    },
    "tags": []
   },
   "outputs": [
    {
     "data": {
      "text/plain": [
       "72"
      ]
     },
     "execution_count": 57,
     "metadata": {},
     "output_type": "execute_result"
    }
   ],
   "source": [
    "data.product_category_name.nunique()"
   ]
  },
  {
   "cell_type": "markdown",
   "id": "fb36eb30",
   "metadata": {
    "papermill": {
     "duration": 0.127779,
     "end_time": "2022-04-21T13:35:53.472776",
     "exception": false,
     "start_time": "2022-04-21T13:35:53.344997",
     "status": "completed"
    },
    "tags": []
   },
   "source": [
    "### Total sellers"
   ]
  },
  {
   "cell_type": "code",
   "execution_count": 58,
   "id": "c0a4f7d2",
   "metadata": {
    "execution": {
     "iopub.execute_input": "2022-04-21T13:35:53.723514Z",
     "iopub.status.busy": "2022-04-21T13:35:53.723012Z",
     "iopub.status.idle": "2022-04-21T13:35:53.738848Z",
     "shell.execute_reply": "2022-04-21T13:35:53.738273Z"
    },
    "papermill": {
     "duration": 0.143396,
     "end_time": "2022-04-21T13:35:53.740457",
     "exception": false,
     "start_time": "2022-04-21T13:35:53.597061",
     "status": "completed"
    },
    "tags": []
   },
   "outputs": [
    {
     "data": {
      "text/plain": [
       "3096"
      ]
     },
     "execution_count": 58,
     "metadata": {},
     "output_type": "execute_result"
    }
   ],
   "source": [
    "data.seller_id.nunique()"
   ]
  },
  {
   "cell_type": "markdown",
   "id": "cd190925",
   "metadata": {
    "papermill": {
     "duration": 0.127123,
     "end_time": "2022-04-21T13:35:53.996869",
     "exception": false,
     "start_time": "2022-04-21T13:35:53.869746",
     "status": "completed"
    },
    "tags": []
   },
   "source": [
    "### Total locations"
   ]
  },
  {
   "cell_type": "code",
   "execution_count": 59,
   "id": "cda9f618",
   "metadata": {
    "execution": {
     "iopub.execute_input": "2022-04-21T13:35:54.248122Z",
     "iopub.status.busy": "2022-04-21T13:35:54.247629Z",
     "iopub.status.idle": "2022-04-21T13:35:54.250631Z",
     "shell.execute_reply": "2022-04-21T13:35:54.249941Z"
    },
    "papermill": {
     "duration": 0.13056,
     "end_time": "2022-04-21T13:35:54.252170",
     "exception": false,
     "start_time": "2022-04-21T13:35:54.121610",
     "status": "completed"
    },
    "tags": []
   },
   "outputs": [],
   "source": [
    "# customer locations"
   ]
  },
  {
   "cell_type": "code",
   "execution_count": 60,
   "id": "1663e39e",
   "metadata": {
    "execution": {
     "iopub.execute_input": "2022-04-21T13:35:54.505223Z",
     "iopub.status.busy": "2022-04-21T13:35:54.504720Z",
     "iopub.status.idle": "2022-04-21T13:35:54.510997Z",
     "shell.execute_reply": "2022-04-21T13:35:54.510264Z"
    },
    "papermill": {
     "duration": 0.135251,
     "end_time": "2022-04-21T13:35:54.512640",
     "exception": false,
     "start_time": "2022-04-21T13:35:54.377389",
     "status": "completed"
    },
    "tags": []
   },
   "outputs": [
    {
     "data": {
      "text/plain": [
       "14994"
      ]
     },
     "execution_count": 60,
     "metadata": {},
     "output_type": "execute_result"
    }
   ],
   "source": [
    "data.customer_zip_code_prefix.nunique()"
   ]
  },
  {
   "cell_type": "markdown",
   "id": "42dc8378",
   "metadata": {
    "papermill": {
     "duration": 0.126344,
     "end_time": "2022-04-21T13:35:54.768330",
     "exception": false,
     "start_time": "2022-04-21T13:35:54.641986",
     "status": "completed"
    },
    "tags": []
   },
   "source": [
    "### Total Payment Methods"
   ]
  },
  {
   "cell_type": "code",
   "execution_count": 61,
   "id": "96af2911",
   "metadata": {
    "execution": {
     "iopub.execute_input": "2022-04-21T13:35:55.021595Z",
     "iopub.status.busy": "2022-04-21T13:35:55.021139Z",
     "iopub.status.idle": "2022-04-21T13:35:55.032787Z",
     "shell.execute_reply": "2022-04-21T13:35:55.032190Z"
    },
    "papermill": {
     "duration": 0.139943,
     "end_time": "2022-04-21T13:35:55.034356",
     "exception": false,
     "start_time": "2022-04-21T13:35:54.894413",
     "status": "completed"
    },
    "tags": []
   },
   "outputs": [
    {
     "data": {
      "text/plain": [
       "5"
      ]
     },
     "execution_count": 61,
     "metadata": {},
     "output_type": "execute_result"
    }
   ],
   "source": [
    "order_payments.payment_type.nunique()"
   ]
  },
  {
   "cell_type": "markdown",
   "id": "ea30bcd9",
   "metadata": {
    "papermill": {
     "duration": 0.125536,
     "end_time": "2022-04-21T13:35:55.285176",
     "exception": false,
     "start_time": "2022-04-21T13:35:55.159640",
     "status": "completed"
    },
    "tags": []
   },
   "source": [
    "## b. Understanding how many new customers acquired every month"
   ]
  },
  {
   "cell_type": "code",
   "execution_count": 62,
   "id": "e5686d0f",
   "metadata": {
    "execution": {
     "iopub.execute_input": "2022-04-21T13:35:55.536647Z",
     "iopub.status.busy": "2022-04-21T13:35:55.536163Z",
     "iopub.status.idle": "2022-04-21T13:35:56.127860Z",
     "shell.execute_reply": "2022-04-21T13:35:56.127260Z"
    },
    "papermill": {
     "duration": 0.719753,
     "end_time": "2022-04-21T13:35:56.129993",
     "exception": false,
     "start_time": "2022-04-21T13:35:55.410240",
     "status": "completed"
    },
    "tags": []
   },
   "outputs": [],
   "source": [
    "# sort data by customer level\n",
    "b=data.groupby(['order_id','customer_id']).last().reset_index()"
   ]
  },
  {
   "cell_type": "code",
   "execution_count": 63,
   "id": "b095e0da",
   "metadata": {
    "execution": {
     "iopub.execute_input": "2022-04-21T13:35:56.383646Z",
     "iopub.status.busy": "2022-04-21T13:35:56.383124Z",
     "iopub.status.idle": "2022-04-21T13:35:56.620515Z",
     "shell.execute_reply": "2022-04-21T13:35:56.619934Z"
    },
    "papermill": {
     "duration": 0.366286,
     "end_time": "2022-04-21T13:35:56.622470",
     "exception": false,
     "start_time": "2022-04-21T13:35:56.256184",
     "status": "completed"
    },
    "tags": []
   },
   "outputs": [],
   "source": [
    "customer_count_per_month=b.groupby(['month_year',b.customer_id.rename('customer')]).customer_id.count().reset_index()"
   ]
  },
  {
   "cell_type": "code",
   "execution_count": 64,
   "id": "c1f605d8",
   "metadata": {
    "execution": {
     "iopub.execute_input": "2022-04-21T13:35:56.877488Z",
     "iopub.status.busy": "2022-04-21T13:35:56.877095Z",
     "iopub.status.idle": "2022-04-21T13:36:04.077315Z",
     "shell.execute_reply": "2022-04-21T13:36:04.076389Z"
    },
    "papermill": {
     "duration": 7.330808,
     "end_time": "2022-04-21T13:36:04.079717",
     "exception": false,
     "start_time": "2022-04-21T13:35:56.748909",
     "status": "completed"
    },
    "tags": []
   },
   "outputs": [],
   "source": [
    "customer_firstpurchase=b.groupby('customer_id').month_year.min().reset_index().rename(columns={'customer_id':'customer','month_year':'first_purchase_month'})"
   ]
  },
  {
   "cell_type": "code",
   "execution_count": 65,
   "id": "d65a0f88",
   "metadata": {
    "execution": {
     "iopub.execute_input": "2022-04-21T13:36:04.334163Z",
     "iopub.status.busy": "2022-04-21T13:36:04.333855Z",
     "iopub.status.idle": "2022-04-21T13:36:04.419351Z",
     "shell.execute_reply": "2022-04-21T13:36:04.418472Z"
    },
    "papermill": {
     "duration": 0.21493,
     "end_time": "2022-04-21T13:36:04.421479",
     "exception": false,
     "start_time": "2022-04-21T13:36:04.206549",
     "status": "completed"
    },
    "tags": []
   },
   "outputs": [],
   "source": [
    "bfinal=customer_count_per_month.merge(customer_firstpurchase,on='customer')"
   ]
  },
  {
   "cell_type": "code",
   "execution_count": 66,
   "id": "1bf9fe5d",
   "metadata": {
    "execution": {
     "iopub.execute_input": "2022-04-21T13:36:04.674988Z",
     "iopub.status.busy": "2022-04-21T13:36:04.674706Z",
     "iopub.status.idle": "2022-04-21T13:36:04.705780Z",
     "shell.execute_reply": "2022-04-21T13:36:04.705098Z"
    },
    "papermill": {
     "duration": 0.160524,
     "end_time": "2022-04-21T13:36:04.707689",
     "exception": false,
     "start_time": "2022-04-21T13:36:04.547165",
     "status": "completed"
    },
    "tags": []
   },
   "outputs": [],
   "source": [
    "bfinal.customer_id=np.where(bfinal.month_year==bfinal.first_purchase_month,'New','Old')"
   ]
  },
  {
   "cell_type": "code",
   "execution_count": 67,
   "id": "7aa781f2",
   "metadata": {
    "execution": {
     "iopub.execute_input": "2022-04-21T13:36:04.966955Z",
     "iopub.status.busy": "2022-04-21T13:36:04.966381Z",
     "iopub.status.idle": "2022-04-21T13:36:04.984018Z",
     "shell.execute_reply": "2022-04-21T13:36:04.983422Z"
    },
    "papermill": {
     "duration": 0.148622,
     "end_time": "2022-04-21T13:36:04.985817",
     "exception": false,
     "start_time": "2022-04-21T13:36:04.837195",
     "status": "completed"
    },
    "tags": []
   },
   "outputs": [
    {
     "data": {
      "text/html": [
       "<div>\n",
       "<style scoped>\n",
       "    .dataframe tbody tr th:only-of-type {\n",
       "        vertical-align: middle;\n",
       "    }\n",
       "\n",
       "    .dataframe tbody tr th {\n",
       "        vertical-align: top;\n",
       "    }\n",
       "\n",
       "    .dataframe thead th {\n",
       "        text-align: right;\n",
       "    }\n",
       "</style>\n",
       "<table border=\"1\" class=\"dataframe\">\n",
       "  <thead>\n",
       "    <tr style=\"text-align: right;\">\n",
       "      <th></th>\n",
       "      <th>month_year</th>\n",
       "      <th>customer</th>\n",
       "      <th>customer_id</th>\n",
       "      <th>first_purchase_month</th>\n",
       "    </tr>\n",
       "  </thead>\n",
       "  <tbody>\n",
       "    <tr>\n",
       "      <th>0</th>\n",
       "      <td>2016-09</td>\n",
       "      <td>08c5351a6aca1c1589a38f244edeee9d</td>\n",
       "      <td>New</td>\n",
       "      <td>2016-09</td>\n",
       "    </tr>\n",
       "    <tr>\n",
       "      <th>1</th>\n",
       "      <td>2016-09</td>\n",
       "      <td>622e13439d6b5a0b486c435618b2679e</td>\n",
       "      <td>New</td>\n",
       "      <td>2016-09</td>\n",
       "    </tr>\n",
       "    <tr>\n",
       "      <th>2</th>\n",
       "      <td>2016-09</td>\n",
       "      <td>683c54fc24d40ee9f8a6fc179fd9856c</td>\n",
       "      <td>New</td>\n",
       "      <td>2016-09</td>\n",
       "    </tr>\n",
       "    <tr>\n",
       "      <th>3</th>\n",
       "      <td>2016-10</td>\n",
       "      <td>00474d2582fd72663036795b7ab8cfc1</td>\n",
       "      <td>New</td>\n",
       "      <td>2016-10</td>\n",
       "    </tr>\n",
       "    <tr>\n",
       "      <th>4</th>\n",
       "      <td>2016-10</td>\n",
       "      <td>01415cfeb907d8ce0e17075b4c097fe9</td>\n",
       "      <td>New</td>\n",
       "      <td>2016-10</td>\n",
       "    </tr>\n",
       "    <tr>\n",
       "      <th>...</th>\n",
       "      <td>...</td>\n",
       "      <td>...</td>\n",
       "      <td>...</td>\n",
       "      <td>...</td>\n",
       "    </tr>\n",
       "    <tr>\n",
       "      <th>99435</th>\n",
       "      <td>2018-09</td>\n",
       "      <td>fea4d57ed3a45455f89c25ef3dae8ee8</td>\n",
       "      <td>New</td>\n",
       "      <td>2018-09</td>\n",
       "    </tr>\n",
       "    <tr>\n",
       "      <th>99436</th>\n",
       "      <td>2018-10</td>\n",
       "      <td>4c2ec60c29d10c34bd49cb88aa85cfc4</td>\n",
       "      <td>New</td>\n",
       "      <td>2018-10</td>\n",
       "    </tr>\n",
       "    <tr>\n",
       "      <th>99437</th>\n",
       "      <td>2018-10</td>\n",
       "      <td>856336203359aa6a61bf3826f7d84c49</td>\n",
       "      <td>New</td>\n",
       "      <td>2018-10</td>\n",
       "    </tr>\n",
       "    <tr>\n",
       "      <th>99438</th>\n",
       "      <td>2018-10</td>\n",
       "      <td>a4b417188addbc05b26b72d5e44837a1</td>\n",
       "      <td>New</td>\n",
       "      <td>2018-10</td>\n",
       "    </tr>\n",
       "    <tr>\n",
       "      <th>99439</th>\n",
       "      <td>2018-10</td>\n",
       "      <td>bf6181a85bbb4115736c0a8db1a53be3</td>\n",
       "      <td>New</td>\n",
       "      <td>2018-10</td>\n",
       "    </tr>\n",
       "  </tbody>\n",
       "</table>\n",
       "<p>99440 rows × 4 columns</p>\n",
       "</div>"
      ],
      "text/plain": [
       "      month_year                          customer customer_id  \\\n",
       "0        2016-09  08c5351a6aca1c1589a38f244edeee9d         New   \n",
       "1        2016-09  622e13439d6b5a0b486c435618b2679e         New   \n",
       "2        2016-09  683c54fc24d40ee9f8a6fc179fd9856c         New   \n",
       "3        2016-10  00474d2582fd72663036795b7ab8cfc1         New   \n",
       "4        2016-10  01415cfeb907d8ce0e17075b4c097fe9         New   \n",
       "...          ...                               ...         ...   \n",
       "99435    2018-09  fea4d57ed3a45455f89c25ef3dae8ee8         New   \n",
       "99436    2018-10  4c2ec60c29d10c34bd49cb88aa85cfc4         New   \n",
       "99437    2018-10  856336203359aa6a61bf3826f7d84c49         New   \n",
       "99438    2018-10  a4b417188addbc05b26b72d5e44837a1         New   \n",
       "99439    2018-10  bf6181a85bbb4115736c0a8db1a53be3         New   \n",
       "\n",
       "      first_purchase_month  \n",
       "0                  2016-09  \n",
       "1                  2016-09  \n",
       "2                  2016-09  \n",
       "3                  2016-10  \n",
       "4                  2016-10  \n",
       "...                    ...  \n",
       "99435              2018-09  \n",
       "99436              2018-10  \n",
       "99437              2018-10  \n",
       "99438              2018-10  \n",
       "99439              2018-10  \n",
       "\n",
       "[99440 rows x 4 columns]"
      ]
     },
     "execution_count": 67,
     "metadata": {},
     "output_type": "execute_result"
    }
   ],
   "source": [
    "bfinal"
   ]
  },
  {
   "cell_type": "markdown",
   "id": "23467f99",
   "metadata": {
    "papermill": {
     "duration": 0.126082,
     "end_time": "2022-04-21T13:36:05.239708",
     "exception": false,
     "start_time": "2022-04-21T13:36:05.113626",
     "status": "completed"
    },
    "tags": []
   },
   "source": [
    "### new customers count per month"
   ]
  },
  {
   "cell_type": "code",
   "execution_count": 68,
   "id": "595eef8e",
   "metadata": {
    "execution": {
     "iopub.execute_input": "2022-04-21T13:36:05.492206Z",
     "iopub.status.busy": "2022-04-21T13:36:05.491795Z",
     "iopub.status.idle": "2022-04-21T13:36:05.548290Z",
     "shell.execute_reply": "2022-04-21T13:36:05.547461Z"
    },
    "papermill": {
     "duration": 0.184789,
     "end_time": "2022-04-21T13:36:05.550355",
     "exception": false,
     "start_time": "2022-04-21T13:36:05.365566",
     "status": "completed"
    },
    "tags": []
   },
   "outputs": [
    {
     "data": {
      "text/plain": [
       "month_year\n",
       "2016-09       3\n",
       "2016-10     324\n",
       "2016-12       1\n",
       "2017-01     800\n",
       "2017-02    1780\n",
       "2017-03    2682\n",
       "2017-04    2404\n",
       "2017-05    3700\n",
       "2017-06    3245\n",
       "2017-07    4026\n",
       "2017-08    4331\n",
       "2017-09    4285\n",
       "2017-10    4631\n",
       "2017-11    7544\n",
       "2017-12    5673\n",
       "2018-01    7269\n",
       "2018-02    6728\n",
       "2018-03    7211\n",
       "2018-04    6939\n",
       "2018-05    6873\n",
       "2018-06    6167\n",
       "2018-07    6292\n",
       "2018-08    6512\n",
       "2018-09      16\n",
       "2018-10       4\n",
       "Name: customer_id, dtype: int64"
      ]
     },
     "execution_count": 68,
     "metadata": {},
     "output_type": "execute_result"
    }
   ],
   "source": [
    "bfinal.query('customer_id==\"New\"').groupby('month_year').customer_id.count()"
   ]
  },
  {
   "cell_type": "markdown",
   "id": "7984f5a7",
   "metadata": {
    "papermill": {
     "duration": 0.128962,
     "end_time": "2022-04-21T13:36:05.806317",
     "exception": false,
     "start_time": "2022-04-21T13:36:05.677355",
     "status": "completed"
    },
    "tags": []
   },
   "source": [
    "## c. Understand the retention of customers on month on month basis"
   ]
  },
  {
   "cell_type": "code",
   "execution_count": 69,
   "id": "9341b9ce",
   "metadata": {
    "execution": {
     "iopub.execute_input": "2022-04-21T13:36:06.074613Z",
     "iopub.status.busy": "2022-04-21T13:36:06.074338Z",
     "iopub.status.idle": "2022-04-21T13:36:06.087233Z",
     "shell.execute_reply": "2022-04-21T13:36:06.086661Z"
    },
    "papermill": {
     "duration": 0.14761,
     "end_time": "2022-04-21T13:36:06.088812",
     "exception": false,
     "start_time": "2022-04-21T13:36:05.941202",
     "status": "completed"
    },
    "tags": []
   },
   "outputs": [
    {
     "data": {
      "text/plain": [
       "New    99440\n",
       "Name: customer_id, dtype: int64"
      ]
     },
     "execution_count": 69,
     "metadata": {},
     "output_type": "execute_result"
    }
   ],
   "source": [
    "bfinal.customer_id.value_counts()"
   ]
  },
  {
   "cell_type": "code",
   "execution_count": 70,
   "id": "6cb15353",
   "metadata": {
    "execution": {
     "iopub.execute_input": "2022-04-21T13:36:06.345678Z",
     "iopub.status.busy": "2022-04-21T13:36:06.345201Z",
     "iopub.status.idle": "2022-04-21T13:36:06.374812Z",
     "shell.execute_reply": "2022-04-21T13:36:06.374289Z"
    },
    "papermill": {
     "duration": 0.161096,
     "end_time": "2022-04-21T13:36:06.376462",
     "exception": false,
     "start_time": "2022-04-21T13:36:06.215366",
     "status": "completed"
    },
    "tags": []
   },
   "outputs": [
    {
     "data": {
      "text/plain": [
       "99440"
      ]
     },
     "execution_count": 70,
     "metadata": {},
     "output_type": "execute_result"
    }
   ],
   "source": [
    "data.customer_id.nunique()"
   ]
  },
  {
   "cell_type": "code",
   "execution_count": 71,
   "id": "f0f98474",
   "metadata": {
    "execution": {
     "iopub.execute_input": "2022-04-21T13:36:06.638104Z",
     "iopub.status.busy": "2022-04-21T13:36:06.637793Z",
     "iopub.status.idle": "2022-04-21T13:36:06.668850Z",
     "shell.execute_reply": "2022-04-21T13:36:06.668071Z"
    },
    "papermill": {
     "duration": 0.164908,
     "end_time": "2022-04-21T13:36:06.670805",
     "exception": false,
     "start_time": "2022-04-21T13:36:06.505897",
     "status": "completed"
    },
    "tags": []
   },
   "outputs": [
    {
     "data": {
      "text/plain": [
       "99440"
      ]
     },
     "execution_count": 71,
     "metadata": {},
     "output_type": "execute_result"
    }
   ],
   "source": [
    "data.order_id.nunique()"
   ]
  },
  {
   "cell_type": "raw",
   "id": "2bc5afa9",
   "metadata": {
    "papermill": {
     "duration": 0.149939,
     "end_time": "2022-04-21T13:36:06.953398",
     "exception": false,
     "start_time": "2022-04-21T13:36:06.803459",
     "status": "completed"
    },
    "tags": []
   },
   "source": [
    "From above , in bfinal(where we classified customer as new and old), there are only new customers in entire datset.\n",
    "we can understand that :\n",
    "Number of  unique customers is equal to 99440 .\n",
    "Number of unique order_ids is equal to 99440.\n",
    "From above , we can say that one customer has made only one order in this data.\n",
    "if the customer places more than one order, then only we can differentitate them as old customer or new customer for a particular month.\n",
    "since,there is only  one order for one customer .\n",
    "therefore, we can say that  retention rate of customers is zero percent in all months"
   ]
  },
  {
   "cell_type": "markdown",
   "id": "e5f8ad04",
   "metadata": {
    "papermill": {
     "duration": 0.18475,
     "end_time": "2022-04-21T13:36:07.264682",
     "exception": false,
     "start_time": "2022-04-21T13:36:07.079932",
     "status": "completed"
    },
    "tags": []
   },
   "source": [
    "## d. How the revenues from existing/new customers on month on month basis"
   ]
  },
  {
   "cell_type": "code",
   "execution_count": 72,
   "id": "2d35e911",
   "metadata": {
    "execution": {
     "iopub.execute_input": "2022-04-21T13:36:07.520357Z",
     "iopub.status.busy": "2022-04-21T13:36:07.519829Z",
     "iopub.status.idle": "2022-04-21T13:36:07.567722Z",
     "shell.execute_reply": "2022-04-21T13:36:07.567078Z"
    },
    "papermill": {
     "duration": 0.177856,
     "end_time": "2022-04-21T13:36:07.569788",
     "exception": false,
     "start_time": "2022-04-21T13:36:07.391932",
     "status": "completed"
    },
    "tags": []
   },
   "outputs": [],
   "source": [
    "# sort data by customer level\n",
    "d=data.drop_duplicates('customer_id')"
   ]
  },
  {
   "cell_type": "code",
   "execution_count": 76,
   "id": "79dc1022",
   "metadata": {
    "execution": {
     "iopub.execute_input": "2022-04-21T13:36:07.826592Z",
     "iopub.status.busy": "2022-04-21T13:36:07.826073Z",
     "iopub.status.idle": "2022-04-21T13:36:08.151843Z",
     "shell.execute_reply": "2022-04-21T13:36:08.150960Z"
    },
    "papermill": {
     "duration": 0.457127,
     "end_time": "2022-04-21T13:36:08.153807",
     "exception": false,
     "start_time": "2022-04-21T13:36:07.696680",
     "status": "completed"
    },
    "tags": []
   },
   "outputs": [
    {
     "ename": "ValueError",
     "evalue": "could not convert string to float: '2016-09'",
     "output_type": "error",
     "traceback": [
      "\u001b[1;31m---------------------------------------------------------------------------\u001b[0m",
      "\u001b[1;31mValueError\u001b[0m                                Traceback (most recent call last)",
      "Cell \u001b[1;32mIn[76], line 3\u001b[0m\n\u001b[0;32m      1\u001b[0m D\u001b[38;5;241m=\u001b[39md\u001b[38;5;241m.\u001b[39mgroupby(\u001b[38;5;124m'\u001b[39m\u001b[38;5;124mmonth_year\u001b[39m\u001b[38;5;124m'\u001b[39m)\u001b[38;5;241m.\u001b[39mpayment_value\u001b[38;5;241m.\u001b[39msum()\u001b[38;5;241m.\u001b[39mreset_index()\n\u001b[0;32m      2\u001b[0m plt\u001b[38;5;241m.\u001b[39mfigure(figsize\u001b[38;5;241m=\u001b[39m(\u001b[38;5;241m13.5\u001b[39m,\u001b[38;5;241m5\u001b[39m))\n\u001b[1;32m----> 3\u001b[0m \u001b[43msns\u001b[49m\u001b[38;5;241;43m.\u001b[39;49m\u001b[43mbarplot\u001b[49m\u001b[43m(\u001b[49m\u001b[43mD\u001b[49m\u001b[38;5;241;43m.\u001b[39;49m\u001b[43mmonth_year\u001b[49m\u001b[43m)\u001b[49m\n\u001b[0;32m      4\u001b[0m plt\u001b[38;5;241m.\u001b[39mxticks(rotation\u001b[38;5;241m=\u001b[39m\u001b[38;5;241m90\u001b[39m)\n\u001b[0;32m      5\u001b[0m plt\u001b[38;5;241m.\u001b[39mticklabel_format(style\u001b[38;5;241m=\u001b[39m\u001b[38;5;124m'\u001b[39m\u001b[38;5;124mplain\u001b[39m\u001b[38;5;124m'\u001b[39m,axis\u001b[38;5;241m=\u001b[39m\u001b[38;5;124m'\u001b[39m\u001b[38;5;124my\u001b[39m\u001b[38;5;124m'\u001b[39m)\n",
      "File \u001b[1;32mC:\\ProgramData\\Anaconda3\\lib\\site-packages\\seaborn\\categorical.py:2755\u001b[0m, in \u001b[0;36mbarplot\u001b[1;34m(data, x, y, hue, order, hue_order, estimator, errorbar, n_boot, units, seed, orient, color, palette, saturation, width, errcolor, errwidth, capsize, dodge, ci, ax, **kwargs)\u001b[0m\n\u001b[0;32m   2752\u001b[0m \u001b[38;5;28;01mif\u001b[39;00m estimator \u001b[38;5;129;01mis\u001b[39;00m \u001b[38;5;28mlen\u001b[39m:\n\u001b[0;32m   2753\u001b[0m     estimator \u001b[38;5;241m=\u001b[39m \u001b[38;5;124m\"\u001b[39m\u001b[38;5;124msize\u001b[39m\u001b[38;5;124m\"\u001b[39m\n\u001b[1;32m-> 2755\u001b[0m plotter \u001b[38;5;241m=\u001b[39m \u001b[43m_BarPlotter\u001b[49m\u001b[43m(\u001b[49m\u001b[43mx\u001b[49m\u001b[43m,\u001b[49m\u001b[43m \u001b[49m\u001b[43my\u001b[49m\u001b[43m,\u001b[49m\u001b[43m \u001b[49m\u001b[43mhue\u001b[49m\u001b[43m,\u001b[49m\u001b[43m \u001b[49m\u001b[43mdata\u001b[49m\u001b[43m,\u001b[49m\u001b[43m \u001b[49m\u001b[43morder\u001b[49m\u001b[43m,\u001b[49m\u001b[43m \u001b[49m\u001b[43mhue_order\u001b[49m\u001b[43m,\u001b[49m\n\u001b[0;32m   2756\u001b[0m \u001b[43m                      \u001b[49m\u001b[43mestimator\u001b[49m\u001b[43m,\u001b[49m\u001b[43m \u001b[49m\u001b[43merrorbar\u001b[49m\u001b[43m,\u001b[49m\u001b[43m \u001b[49m\u001b[43mn_boot\u001b[49m\u001b[43m,\u001b[49m\u001b[43m \u001b[49m\u001b[43munits\u001b[49m\u001b[43m,\u001b[49m\u001b[43m \u001b[49m\u001b[43mseed\u001b[49m\u001b[43m,\u001b[49m\n\u001b[0;32m   2757\u001b[0m \u001b[43m                      \u001b[49m\u001b[43morient\u001b[49m\u001b[43m,\u001b[49m\u001b[43m \u001b[49m\u001b[43mcolor\u001b[49m\u001b[43m,\u001b[49m\u001b[43m \u001b[49m\u001b[43mpalette\u001b[49m\u001b[43m,\u001b[49m\u001b[43m \u001b[49m\u001b[43msaturation\u001b[49m\u001b[43m,\u001b[49m\n\u001b[0;32m   2758\u001b[0m \u001b[43m                      \u001b[49m\u001b[43mwidth\u001b[49m\u001b[43m,\u001b[49m\u001b[43m \u001b[49m\u001b[43merrcolor\u001b[49m\u001b[43m,\u001b[49m\u001b[43m \u001b[49m\u001b[43merrwidth\u001b[49m\u001b[43m,\u001b[49m\u001b[43m \u001b[49m\u001b[43mcapsize\u001b[49m\u001b[43m,\u001b[49m\u001b[43m \u001b[49m\u001b[43mdodge\u001b[49m\u001b[43m)\u001b[49m\n\u001b[0;32m   2760\u001b[0m \u001b[38;5;28;01mif\u001b[39;00m ax \u001b[38;5;129;01mis\u001b[39;00m \u001b[38;5;28;01mNone\u001b[39;00m:\n\u001b[0;32m   2761\u001b[0m     ax \u001b[38;5;241m=\u001b[39m plt\u001b[38;5;241m.\u001b[39mgca()\n",
      "File \u001b[1;32mC:\\ProgramData\\Anaconda3\\lib\\site-packages\\seaborn\\categorical.py:1530\u001b[0m, in \u001b[0;36m_BarPlotter.__init__\u001b[1;34m(self, x, y, hue, data, order, hue_order, estimator, errorbar, n_boot, units, seed, orient, color, palette, saturation, width, errcolor, errwidth, capsize, dodge)\u001b[0m\n\u001b[0;32m   1525\u001b[0m \u001b[38;5;28;01mdef\u001b[39;00m \u001b[38;5;21m__init__\u001b[39m(\u001b[38;5;28mself\u001b[39m, x, y, hue, data, order, hue_order,\n\u001b[0;32m   1526\u001b[0m              estimator, errorbar, n_boot, units, seed,\n\u001b[0;32m   1527\u001b[0m              orient, color, palette, saturation, width,\n\u001b[0;32m   1528\u001b[0m              errcolor, errwidth, capsize, dodge):\n\u001b[0;32m   1529\u001b[0m     \u001b[38;5;124;03m\"\"\"Initialize the plotter.\"\"\"\u001b[39;00m\n\u001b[1;32m-> 1530\u001b[0m     \u001b[38;5;28;43mself\u001b[39;49m\u001b[38;5;241;43m.\u001b[39;49m\u001b[43mestablish_variables\u001b[49m\u001b[43m(\u001b[49m\u001b[43mx\u001b[49m\u001b[43m,\u001b[49m\u001b[43m \u001b[49m\u001b[43my\u001b[49m\u001b[43m,\u001b[49m\u001b[43m \u001b[49m\u001b[43mhue\u001b[49m\u001b[43m,\u001b[49m\u001b[43m \u001b[49m\u001b[43mdata\u001b[49m\u001b[43m,\u001b[49m\u001b[43m \u001b[49m\u001b[43morient\u001b[49m\u001b[43m,\u001b[49m\n\u001b[0;32m   1531\u001b[0m \u001b[43m                             \u001b[49m\u001b[43morder\u001b[49m\u001b[43m,\u001b[49m\u001b[43m \u001b[49m\u001b[43mhue_order\u001b[49m\u001b[43m,\u001b[49m\u001b[43m \u001b[49m\u001b[43munits\u001b[49m\u001b[43m)\u001b[49m\n\u001b[0;32m   1532\u001b[0m     \u001b[38;5;28mself\u001b[39m\u001b[38;5;241m.\u001b[39mestablish_colors(color, palette, saturation)\n\u001b[0;32m   1533\u001b[0m     \u001b[38;5;28mself\u001b[39m\u001b[38;5;241m.\u001b[39mestimate_statistic(estimator, errorbar, n_boot, seed)\n",
      "File \u001b[1;32mC:\\ProgramData\\Anaconda3\\lib\\site-packages\\seaborn\\categorical.py:516\u001b[0m, in \u001b[0;36m_CategoricalPlotter.establish_variables\u001b[1;34m(self, x, y, hue, data, orient, order, hue_order, units)\u001b[0m\n\u001b[0;32m    513\u001b[0m     plot_data \u001b[38;5;241m=\u001b[39m data\n\u001b[0;32m    515\u001b[0m \u001b[38;5;66;03m# Convert to a list of arrays, the common representation\u001b[39;00m\n\u001b[1;32m--> 516\u001b[0m plot_data \u001b[38;5;241m=\u001b[39m [np\u001b[38;5;241m.\u001b[39masarray(d, \u001b[38;5;28mfloat\u001b[39m) \u001b[38;5;28;01mfor\u001b[39;00m d \u001b[38;5;129;01min\u001b[39;00m plot_data]\n\u001b[0;32m    518\u001b[0m \u001b[38;5;66;03m# The group names will just be numeric indices\u001b[39;00m\n\u001b[0;32m    519\u001b[0m group_names \u001b[38;5;241m=\u001b[39m \u001b[38;5;28mlist\u001b[39m(\u001b[38;5;28mrange\u001b[39m(\u001b[38;5;28mlen\u001b[39m(plot_data)))\n",
      "File \u001b[1;32mC:\\ProgramData\\Anaconda3\\lib\\site-packages\\seaborn\\categorical.py:516\u001b[0m, in \u001b[0;36m<listcomp>\u001b[1;34m(.0)\u001b[0m\n\u001b[0;32m    513\u001b[0m     plot_data \u001b[38;5;241m=\u001b[39m data\n\u001b[0;32m    515\u001b[0m \u001b[38;5;66;03m# Convert to a list of arrays, the common representation\u001b[39;00m\n\u001b[1;32m--> 516\u001b[0m plot_data \u001b[38;5;241m=\u001b[39m [\u001b[43mnp\u001b[49m\u001b[38;5;241;43m.\u001b[39;49m\u001b[43masarray\u001b[49m\u001b[43m(\u001b[49m\u001b[43md\u001b[49m\u001b[43m,\u001b[49m\u001b[43m \u001b[49m\u001b[38;5;28;43mfloat\u001b[39;49m\u001b[43m)\u001b[49m \u001b[38;5;28;01mfor\u001b[39;00m d \u001b[38;5;129;01min\u001b[39;00m plot_data]\n\u001b[0;32m    518\u001b[0m \u001b[38;5;66;03m# The group names will just be numeric indices\u001b[39;00m\n\u001b[0;32m    519\u001b[0m group_names \u001b[38;5;241m=\u001b[39m \u001b[38;5;28mlist\u001b[39m(\u001b[38;5;28mrange\u001b[39m(\u001b[38;5;28mlen\u001b[39m(plot_data)))\n",
      "File \u001b[1;32mC:\\ProgramData\\Anaconda3\\lib\\site-packages\\pandas\\core\\series.py:872\u001b[0m, in \u001b[0;36mSeries.__array__\u001b[1;34m(self, dtype)\u001b[0m\n\u001b[0;32m    825\u001b[0m \u001b[38;5;28;01mdef\u001b[39;00m \u001b[38;5;21m__array__\u001b[39m(\u001b[38;5;28mself\u001b[39m, dtype: npt\u001b[38;5;241m.\u001b[39mDTypeLike \u001b[38;5;241m|\u001b[39m \u001b[38;5;28;01mNone\u001b[39;00m \u001b[38;5;241m=\u001b[39m \u001b[38;5;28;01mNone\u001b[39;00m) \u001b[38;5;241m-\u001b[39m\u001b[38;5;241m>\u001b[39m np\u001b[38;5;241m.\u001b[39mndarray:\n\u001b[0;32m    826\u001b[0m     \u001b[38;5;124;03m\"\"\"\u001b[39;00m\n\u001b[0;32m    827\u001b[0m \u001b[38;5;124;03m    Return the values as a NumPy array.\u001b[39;00m\n\u001b[0;32m    828\u001b[0m \n\u001b[1;32m   (...)\u001b[0m\n\u001b[0;32m    870\u001b[0m \u001b[38;5;124;03m          dtype='datetime64[ns]')\u001b[39;00m\n\u001b[0;32m    871\u001b[0m \u001b[38;5;124;03m    \"\"\"\u001b[39;00m\n\u001b[1;32m--> 872\u001b[0m     \u001b[38;5;28;01mreturn\u001b[39;00m \u001b[43mnp\u001b[49m\u001b[38;5;241;43m.\u001b[39;49m\u001b[43masarray\u001b[49m\u001b[43m(\u001b[49m\u001b[38;5;28;43mself\u001b[39;49m\u001b[38;5;241;43m.\u001b[39;49m\u001b[43m_values\u001b[49m\u001b[43m,\u001b[49m\u001b[43m \u001b[49m\u001b[43mdtype\u001b[49m\u001b[43m)\u001b[49m\n",
      "\u001b[1;31mValueError\u001b[0m: could not convert string to float: '2016-09'"
     ]
    },
    {
     "data": {
      "text/plain": [
       "<Figure size 1350x500 with 0 Axes>"
      ]
     },
     "metadata": {},
     "output_type": "display_data"
    }
   ],
   "source": [
    "D=d.groupby('month_year').payment_value.sum().reset_index()\n",
    "plt.figure(figsize=(13.5,5))\n",
    "sns.barplot(D.month_year,D.payment_value)\n",
    "plt.xticks(rotation=90)\n",
    "plt.ticklabel_format(style='plain',axis='y')\n",
    "plt.title('new customers revenue per month')\n",
    "plt.show()"
   ]
  },
  {
   "cell_type": "markdown",
   "id": "80f3719d",
   "metadata": {
    "papermill": {
     "duration": 0.128608,
     "end_time": "2022-04-21T13:36:08.410846",
     "exception": false,
     "start_time": "2022-04-21T13:36:08.282238",
     "status": "completed"
    },
    "tags": []
   },
   "source": [
    "## e. Understand the trends/seasonality of sales, quantity by category, location, month, week, day, time, channel, payment method etc…"
   ]
  },
  {
   "cell_type": "code",
   "execution_count": 74,
   "id": "6eb08dde",
   "metadata": {
    "execution": {
     "iopub.execute_input": "2022-04-21T13:36:08.672268Z",
     "iopub.status.busy": "2022-04-21T13:36:08.671712Z",
     "iopub.status.idle": "2022-04-21T13:36:08.674746Z",
     "shell.execute_reply": "2022-04-21T13:36:08.674209Z"
    },
    "papermill": {
     "duration": 0.135357,
     "end_time": "2022-04-21T13:36:08.676282",
     "exception": false,
     "start_time": "2022-04-21T13:36:08.540925",
     "status": "completed"
    },
    "tags": []
   },
   "outputs": [],
   "source": [
    "# sales by category"
   ]
  },
  {
   "cell_type": "code",
   "execution_count": 75,
   "id": "f4cc49b5",
   "metadata": {
    "execution": {
     "iopub.execute_input": "2022-04-21T13:36:08.936658Z",
     "iopub.status.busy": "2022-04-21T13:36:08.936105Z",
     "iopub.status.idle": "2022-04-21T13:36:09.986621Z",
     "shell.execute_reply": "2022-04-21T13:36:09.985948Z"
    },
    "papermill": {
     "duration": 1.183909,
     "end_time": "2022-04-21T13:36:09.989215",
     "exception": false,
     "start_time": "2022-04-21T13:36:08.805306",
     "status": "completed"
    },
    "tags": []
   },
   "outputs": [
    {
     "data": {
      "image/png": "[encoded data removed]",
      "text/plain": [
       "<Figure size 1600x600 with 1 Axes>"
      ]
     },
     "metadata": {},
     "output_type": "display_data"
    }
   ],
   "source": [
    "e1=data.groupby('product_category_name').price_to_pay.sum().reset_index()\n",
    "plt.figure(figsize=(16,6))\n",
    "sns.scatterplot(x='product_category_name',y='price_to_pay',data=e1)\n",
    "plt.ylabel('Sales')\n",
    "plt.ticklabel_format(style='plain',axis='y')\n",
    "plt.xticks(rotation=90)\n",
    "plt.show()"
   ]
  },
  {
   "cell_type": "code",
   "execution_count": null,
   "id": "48317dd0",
   "metadata": {
    "execution": {
     "iopub.execute_input": "2022-04-21T13:36:10.254113Z",
     "iopub.status.busy": "2022-04-21T13:36:10.253872Z",
     "iopub.status.idle": "2022-04-21T13:36:10.256738Z",
     "shell.execute_reply": "2022-04-21T13:36:10.256197Z"
    },
    "papermill": {
     "duration": 0.137074,
     "end_time": "2022-04-21T13:36:10.258236",
     "exception": false,
     "start_time": "2022-04-21T13:36:10.121162",
     "status": "completed"
    },
    "tags": []
   },
   "outputs": [],
   "source": [
    "# quantity by category"
   ]
  },
  {
   "cell_type": "code",
   "execution_count": 77,
   "id": "84615260",
   "metadata": {
    "execution": {
     "iopub.execute_input": "2022-04-21T13:36:10.524621Z",
     "iopub.status.busy": "2022-04-21T13:36:10.523759Z",
     "iopub.status.idle": "2022-04-21T13:36:11.523427Z",
     "shell.execute_reply": "2022-04-21T13:36:11.522635Z"
    },
    "papermill": {
     "duration": 1.136254,
     "end_time": "2022-04-21T13:36:11.526178",
     "exception": false,
     "start_time": "2022-04-21T13:36:10.389924",
     "status": "completed"
    },
    "tags": []
   },
   "outputs": [
    {
     "data": {
      "image/png": "[encoded data removed]",
      "text/plain": [
       "<Figure size 1600x600 with 1 Axes>"
      ]
     },
     "metadata": {},
     "output_type": "display_data"
    }
   ],
   "source": [
    "e2=data.groupby('product_category_name').order_item_id.count().reset_index()\n",
    "plt.figure(figsize=(16,6))\n",
    "sns.scatterplot(x='product_category_name',y='order_item_id',data=e2)\n",
    "plt.ylabel('Quantity')\n",
    "plt.ticklabel_format(style='plain',axis='y')\n",
    "plt.xticks(rotation=90)\n",
    "plt.show()"
   ]
  },
  {
   "cell_type": "code",
   "execution_count": 78,
   "id": "8c76af85",
   "metadata": {
    "execution": {
     "iopub.execute_input": "2022-04-21T13:36:11.799573Z",
     "iopub.status.busy": "2022-04-21T13:36:11.798605Z",
     "iopub.status.idle": "2022-04-21T13:36:11.802633Z",
     "shell.execute_reply": "2022-04-21T13:36:11.802097Z"
    },
    "papermill": {
     "duration": 0.143271,
     "end_time": "2022-04-21T13:36:11.804302",
     "exception": false,
     "start_time": "2022-04-21T13:36:11.661031",
     "status": "completed"
    },
    "tags": []
   },
   "outputs": [],
   "source": [
    "# sales by location "
   ]
  },
  {
   "cell_type": "code",
   "execution_count": 79,
   "id": "f59de5b3",
   "metadata": {
    "execution": {
     "iopub.execute_input": "2022-04-21T13:36:12.074993Z",
     "iopub.status.busy": "2022-04-21T13:36:12.074393Z",
     "iopub.status.idle": "2022-04-21T13:36:12.373790Z",
     "shell.execute_reply": "2022-04-21T13:36:12.373203Z"
    },
    "papermill": {
     "duration": 0.437076,
     "end_time": "2022-04-21T13:36:12.375622",
     "exception": false,
     "start_time": "2022-04-21T13:36:11.938546",
     "status": "completed"
    },
    "tags": []
   },
   "outputs": [
    {
     "ename": "TypeError",
     "evalue": "barplot() takes from 0 to 1 positional arguments but 2 were given",
     "output_type": "error",
     "traceback": [
      "\u001b[1;31m---------------------------------------------------------------------------\u001b[0m",
      "\u001b[1;31mTypeError\u001b[0m                                 Traceback (most recent call last)",
      "Cell \u001b[1;32mIn[79], line 3\u001b[0m\n\u001b[0;32m      1\u001b[0m e3\u001b[38;5;241m=\u001b[39mdata\u001b[38;5;241m.\u001b[39mgroupby(\u001b[38;5;124m'\u001b[39m\u001b[38;5;124mcustomer_state\u001b[39m\u001b[38;5;124m'\u001b[39m)\u001b[38;5;241m.\u001b[39mprice_to_pay\u001b[38;5;241m.\u001b[39msum()\u001b[38;5;241m.\u001b[39mreset_index()\n\u001b[0;32m      2\u001b[0m plt\u001b[38;5;241m.\u001b[39mfigure(figsize\u001b[38;5;241m=\u001b[39m(\u001b[38;5;241m16\u001b[39m,\u001b[38;5;241m6\u001b[39m))\n\u001b[1;32m----> 3\u001b[0m \u001b[43msns\u001b[49m\u001b[38;5;241;43m.\u001b[39;49m\u001b[43mbarplot\u001b[49m\u001b[43m(\u001b[49m\u001b[43me3\u001b[49m\u001b[38;5;241;43m.\u001b[39;49m\u001b[43mcustomer_state\u001b[49m\u001b[43m,\u001b[49m\u001b[43me3\u001b[49m\u001b[38;5;241;43m.\u001b[39;49m\u001b[43mprice_to_pay\u001b[49m\u001b[43m)\u001b[49m\n\u001b[0;32m      4\u001b[0m plt\u001b[38;5;241m.\u001b[39mticklabel_format(style\u001b[38;5;241m=\u001b[39m\u001b[38;5;124m'\u001b[39m\u001b[38;5;124mplain\u001b[39m\u001b[38;5;124m'\u001b[39m,axis\u001b[38;5;241m=\u001b[39m\u001b[38;5;124m'\u001b[39m\u001b[38;5;124my\u001b[39m\u001b[38;5;124m'\u001b[39m)\n\u001b[0;32m      5\u001b[0m plt\u001b[38;5;241m.\u001b[39mylabel(\u001b[38;5;124m'\u001b[39m\u001b[38;5;124mSales\u001b[39m\u001b[38;5;124m'\u001b[39m)\n",
      "\u001b[1;31mTypeError\u001b[0m: barplot() takes from 0 to 1 positional arguments but 2 were given"
     ]
    },
    {
     "data": {
      "text/plain": [
       "<Figure size 1600x600 with 0 Axes>"
      ]
     },
     "metadata": {},
     "output_type": "display_data"
    }
   ],
   "source": [
    "e3=data.groupby('customer_state').price_to_pay.sum().reset_index()\n",
    "plt.figure(figsize=(16,6))\n",
    "sns.barplot(e3.customer_state,e3.price_to_pay)\n",
    "plt.ticklabel_format(style='plain',axis='y')\n",
    "plt.ylabel('Sales')\n",
    "plt.xticks(rotation=90)\n",
    "plt.show()\n"
   ]
  },
  {
   "cell_type": "code",
   "execution_count": null,
   "id": "6cbaa2b7",
   "metadata": {
    "execution": {
     "iopub.execute_input": "2022-04-21T13:36:12.651305Z",
     "iopub.status.busy": "2022-04-21T13:36:12.650404Z",
     "iopub.status.idle": "2022-04-21T13:36:12.653828Z",
     "shell.execute_reply": "2022-04-21T13:36:12.653318Z"
    },
    "papermill": {
     "duration": 0.143607,
     "end_time": "2022-04-21T13:36:12.655384",
     "exception": false,
     "start_time": "2022-04-21T13:36:12.511777",
     "status": "completed"
    },
    "tags": []
   },
   "outputs": [],
   "source": [
    "# quantity by location"
   ]
  },
  {
   "cell_type": "code",
   "execution_count": null,
   "id": "bd8fd2a5",
   "metadata": {
    "execution": {
     "iopub.execute_input": "2022-04-21T13:36:12.932834Z",
     "iopub.status.busy": "2022-04-21T13:36:12.932077Z",
     "iopub.status.idle": "2022-04-21T13:36:13.362212Z",
     "shell.execute_reply": "2022-04-21T13:36:13.361600Z"
    },
    "papermill": {
     "duration": 0.570053,
     "end_time": "2022-04-21T13:36:13.363959",
     "exception": false,
     "start_time": "2022-04-21T13:36:12.793906",
     "status": "completed"
    },
    "tags": []
   },
   "outputs": [],
   "source": [
    "e4=data.groupby('customer_state').order_item_id.count().reset_index()\n",
    "plt.figure(figsize=(16,6))\n",
    "sns.barplot(e4.customer_state,e4.order_item_id)\n",
    "plt.ticklabel_format(style='plain',axis='y')\n",
    "plt.xticks(rotation=90)\n",
    "plt.show()"
   ]
  },
  {
   "cell_type": "code",
   "execution_count": null,
   "id": "a93f569d",
   "metadata": {
    "execution": {
     "iopub.execute_input": "2022-04-21T13:36:13.642239Z",
     "iopub.status.busy": "2022-04-21T13:36:13.641732Z",
     "iopub.status.idle": "2022-04-21T13:36:13.644564Z",
     "shell.execute_reply": "2022-04-21T13:36:13.644067Z"
    },
    "papermill": {
     "duration": 0.143856,
     "end_time": "2022-04-21T13:36:13.646088",
     "exception": false,
     "start_time": "2022-04-21T13:36:13.502232",
     "status": "completed"
    },
    "tags": []
   },
   "outputs": [],
   "source": [
    "# sales by month"
   ]
  },
  {
   "cell_type": "code",
   "execution_count": 80,
   "id": "ac503999",
   "metadata": {
    "execution": {
     "iopub.execute_input": "2022-04-21T13:36:13.929313Z",
     "iopub.status.busy": "2022-04-21T13:36:13.928827Z",
     "iopub.status.idle": "2022-04-21T13:36:14.260398Z",
     "shell.execute_reply": "2022-04-21T13:36:14.259760Z"
    },
    "papermill": {
     "duration": 0.478265,
     "end_time": "2022-04-21T13:36:14.262235",
     "exception": false,
     "start_time": "2022-04-21T13:36:13.783970",
     "status": "completed"
    },
    "tags": []
   },
   "outputs": [
    {
     "ename": "TypeError",
     "evalue": "barplot() takes from 0 to 1 positional arguments but 2 were given",
     "output_type": "error",
     "traceback": [
      "\u001b[1;31m---------------------------------------------------------------------------\u001b[0m",
      "\u001b[1;31mTypeError\u001b[0m                                 Traceback (most recent call last)",
      "Cell \u001b[1;32mIn[80], line 3\u001b[0m\n\u001b[0;32m      1\u001b[0m e5\u001b[38;5;241m=\u001b[39mdata\u001b[38;5;241m.\u001b[39mgroupby(\u001b[38;5;124m'\u001b[39m\u001b[38;5;124mmonth_year\u001b[39m\u001b[38;5;124m'\u001b[39m)\u001b[38;5;241m.\u001b[39mprice_to_pay\u001b[38;5;241m.\u001b[39msum()\u001b[38;5;241m.\u001b[39mreset_index()\n\u001b[0;32m      2\u001b[0m plt\u001b[38;5;241m.\u001b[39mfigure(figsize\u001b[38;5;241m=\u001b[39m(\u001b[38;5;241m16\u001b[39m,\u001b[38;5;241m6\u001b[39m))\n\u001b[1;32m----> 3\u001b[0m \u001b[43msns\u001b[49m\u001b[38;5;241;43m.\u001b[39;49m\u001b[43mbarplot\u001b[49m\u001b[43m(\u001b[49m\u001b[43me5\u001b[49m\u001b[38;5;241;43m.\u001b[39;49m\u001b[43mmonth_year\u001b[49m\u001b[43m,\u001b[49m\u001b[43me5\u001b[49m\u001b[38;5;241;43m.\u001b[39;49m\u001b[43mprice_to_pay\u001b[49m\u001b[43m)\u001b[49m\n\u001b[0;32m      4\u001b[0m plt\u001b[38;5;241m.\u001b[39mticklabel_format(style\u001b[38;5;241m=\u001b[39m\u001b[38;5;124m'\u001b[39m\u001b[38;5;124mplain\u001b[39m\u001b[38;5;124m'\u001b[39m,axis\u001b[38;5;241m=\u001b[39m\u001b[38;5;124m'\u001b[39m\u001b[38;5;124my\u001b[39m\u001b[38;5;124m'\u001b[39m)\n\u001b[0;32m      5\u001b[0m plt\u001b[38;5;241m.\u001b[39mylabel(\u001b[38;5;124m'\u001b[39m\u001b[38;5;124mSales\u001b[39m\u001b[38;5;124m'\u001b[39m)\n",
      "\u001b[1;31mTypeError\u001b[0m: barplot() takes from 0 to 1 positional arguments but 2 were given"
     ]
    },
    {
     "data": {
      "text/plain": [
       "<Figure size 1600x600 with 0 Axes>"
      ]
     },
     "metadata": {},
     "output_type": "display_data"
    }
   ],
   "source": [
    "e5=data.groupby('month_year').price_to_pay.sum().reset_index()\n",
    "plt.figure(figsize=(16,6))\n",
    "sns.barplot(e5.month_year,e5.price_to_pay)\n",
    "plt.ticklabel_format(style='plain',axis='y')\n",
    "plt.ylabel('Sales')\n",
    "plt.xticks(rotation=90)\n",
    "plt.show()"
   ]
  },
  {
   "cell_type": "code",
   "execution_count": 81,
   "id": "dc8b795d",
   "metadata": {
    "execution": {
     "iopub.execute_input": "2022-04-21T13:36:14.547084Z",
     "iopub.status.busy": "2022-04-21T13:36:14.546636Z",
     "iopub.status.idle": "2022-04-21T13:36:14.549539Z",
     "shell.execute_reply": "2022-04-21T13:36:14.548981Z"
    },
    "papermill": {
     "duration": 0.145477,
     "end_time": "2022-04-21T13:36:14.551271",
     "exception": false,
     "start_time": "2022-04-21T13:36:14.405794",
     "status": "completed"
    },
    "tags": []
   },
   "outputs": [],
   "source": [
    "# quantity by month"
   ]
  },
  {
   "cell_type": "code",
   "execution_count": 82,
   "id": "83f24ba9",
   "metadata": {
    "execution": {
     "iopub.execute_input": "2022-04-21T13:36:14.831784Z",
     "iopub.status.busy": "2022-04-21T13:36:14.831359Z",
     "iopub.status.idle": "2022-04-21T13:36:15.152025Z",
     "shell.execute_reply": "2022-04-21T13:36:15.151491Z"
    },
    "papermill": {
     "duration": 0.463366,
     "end_time": "2022-04-21T13:36:15.153838",
     "exception": false,
     "start_time": "2022-04-21T13:36:14.690472",
     "status": "completed"
    },
    "tags": []
   },
   "outputs": [
    {
     "ename": "TypeError",
     "evalue": "barplot() takes from 0 to 1 positional arguments but 2 were given",
     "output_type": "error",
     "traceback": [
      "\u001b[1;31m---------------------------------------------------------------------------\u001b[0m",
      "\u001b[1;31mTypeError\u001b[0m                                 Traceback (most recent call last)",
      "Cell \u001b[1;32mIn[82], line 3\u001b[0m\n\u001b[0;32m      1\u001b[0m e6\u001b[38;5;241m=\u001b[39mdata\u001b[38;5;241m.\u001b[39mgroupby(\u001b[38;5;124m'\u001b[39m\u001b[38;5;124mmonth_year\u001b[39m\u001b[38;5;124m'\u001b[39m)\u001b[38;5;241m.\u001b[39morder_item_id\u001b[38;5;241m.\u001b[39mcount()\u001b[38;5;241m.\u001b[39mreset_index()\n\u001b[0;32m      2\u001b[0m plt\u001b[38;5;241m.\u001b[39mfigure(figsize\u001b[38;5;241m=\u001b[39m(\u001b[38;5;241m16\u001b[39m,\u001b[38;5;241m6\u001b[39m))\n\u001b[1;32m----> 3\u001b[0m \u001b[43msns\u001b[49m\u001b[38;5;241;43m.\u001b[39;49m\u001b[43mbarplot\u001b[49m\u001b[43m(\u001b[49m\u001b[43me6\u001b[49m\u001b[38;5;241;43m.\u001b[39;49m\u001b[43mmonth_year\u001b[49m\u001b[43m,\u001b[49m\u001b[43me6\u001b[49m\u001b[38;5;241;43m.\u001b[39;49m\u001b[43morder_item_id\u001b[49m\u001b[43m)\u001b[49m\n\u001b[0;32m      4\u001b[0m plt\u001b[38;5;241m.\u001b[39mticklabel_format(style\u001b[38;5;241m=\u001b[39m\u001b[38;5;124m'\u001b[39m\u001b[38;5;124mplain\u001b[39m\u001b[38;5;124m'\u001b[39m,axis\u001b[38;5;241m=\u001b[39m\u001b[38;5;124m'\u001b[39m\u001b[38;5;124my\u001b[39m\u001b[38;5;124m'\u001b[39m)\n\u001b[0;32m      5\u001b[0m plt\u001b[38;5;241m.\u001b[39mylabel(\u001b[38;5;124m'\u001b[39m\u001b[38;5;124mquantity\u001b[39m\u001b[38;5;124m'\u001b[39m)\n",
      "\u001b[1;31mTypeError\u001b[0m: barplot() takes from 0 to 1 positional arguments but 2 were given"
     ]
    },
    {
     "data": {
      "text/plain": [
       "<Figure size 1600x600 with 0 Axes>"
      ]
     },
     "metadata": {},
     "output_type": "display_data"
    }
   ],
   "source": [
    "e6=data.groupby('month_year').order_item_id.count().reset_index()\n",
    "plt.figure(figsize=(16,6))\n",
    "sns.barplot(e6.month_year,e6.order_item_id)\n",
    "plt.ticklabel_format(style='plain',axis='y')\n",
    "plt.ylabel('quantity')\n",
    "plt.xticks(rotation=90)\n",
    "plt.show()"
   ]
  },
  {
   "cell_type": "code",
   "execution_count": null,
   "id": "1e12f6f3",
   "metadata": {
    "execution": {
     "iopub.execute_input": "2022-04-21T13:36:15.439509Z",
     "iopub.status.busy": "2022-04-21T13:36:15.438979Z",
     "iopub.status.idle": "2022-04-21T13:36:15.442255Z",
     "shell.execute_reply": "2022-04-21T13:36:15.441718Z"
    },
    "papermill": {
     "duration": 0.147343,
     "end_time": "2022-04-21T13:36:15.443788",
     "exception": false,
     "start_time": "2022-04-21T13:36:15.296445",
     "status": "completed"
    },
    "tags": []
   },
   "outputs": [],
   "source": [
    "# sales by week"
   ]
  },
  {
   "cell_type": "code",
   "execution_count": null,
   "id": "3a2b18e8",
   "metadata": {
    "execution": {
     "iopub.execute_input": "2022-04-21T13:36:15.725719Z",
     "iopub.status.busy": "2022-04-21T13:36:15.725265Z",
     "iopub.status.idle": "2022-04-21T13:36:16.717073Z",
     "shell.execute_reply": "2022-04-21T13:36:16.716296Z"
    },
    "papermill": {
     "duration": 1.134885,
     "end_time": "2022-04-21T13:36:16.719018",
     "exception": false,
     "start_time": "2022-04-21T13:36:15.584133",
     "status": "completed"
    },
    "tags": []
   },
   "outputs": [],
   "source": [
    "e7=data.groupby(['year','week']).price_to_pay.sum().reset_index()\n",
    "e7['year_week']=e7.year.astype(str)+'-'+e7.week.astype(str)\n",
    "plt.figure(figsize=(18,7))\n",
    "plt.scatter(e7.year_week,e7.price_to_pay)\n",
    "plt.ticklabel_format(style='plain',axis='y')\n",
    "plt.xticks(rotation=90)\n",
    "plt.show()"
   ]
  },
  {
   "cell_type": "code",
   "execution_count": null,
   "id": "00d9d142",
   "metadata": {
    "execution": {
     "iopub.execute_input": "2022-04-21T13:36:17.007182Z",
     "iopub.status.busy": "2022-04-21T13:36:17.006423Z",
     "iopub.status.idle": "2022-04-21T13:36:17.010088Z",
     "shell.execute_reply": "2022-04-21T13:36:17.009425Z"
    },
    "papermill": {
     "duration": 0.149643,
     "end_time": "2022-04-21T13:36:17.012056",
     "exception": false,
     "start_time": "2022-04-21T13:36:16.862413",
     "status": "completed"
    },
    "tags": []
   },
   "outputs": [],
   "source": [
    "# quantity by week"
   ]
  },
  {
   "cell_type": "code",
   "execution_count": null,
   "id": "2a795f2f",
   "metadata": {
    "execution": {
     "iopub.execute_input": "2022-04-21T13:36:17.301075Z",
     "iopub.status.busy": "2022-04-21T13:36:17.300550Z",
     "iopub.status.idle": "2022-04-21T13:36:18.371817Z",
     "shell.execute_reply": "2022-04-21T13:36:18.370769Z"
    },
    "papermill": {
     "duration": 1.217508,
     "end_time": "2022-04-21T13:36:18.373991",
     "exception": false,
     "start_time": "2022-04-21T13:36:17.156483",
     "status": "completed"
    },
    "tags": []
   },
   "outputs": [],
   "source": [
    "e8=data.groupby(['year','week']).order_item_id.count().reset_index()\n",
    "e8['year_week']=e8.year.astype(str)+'-'+e8.week.astype(str)\n",
    "plt.figure(figsize=(18,7))\n",
    "sns.scatterplot(e8.year_week,e8.order_item_id)\n",
    "plt.ticklabel_format(style='plain',axis='y')\n",
    "plt.ylabel('quantity')\n",
    "plt.xticks(rotation=90)\n",
    "plt.show()"
   ]
  },
  {
   "cell_type": "code",
   "execution_count": null,
   "id": "0c1f99a1",
   "metadata": {
    "execution": {
     "iopub.execute_input": "2022-04-21T13:36:18.664932Z",
     "iopub.status.busy": "2022-04-21T13:36:18.664670Z",
     "iopub.status.idle": "2022-04-21T13:36:18.667696Z",
     "shell.execute_reply": "2022-04-21T13:36:18.667117Z"
    },
    "papermill": {
     "duration": 0.151383,
     "end_time": "2022-04-21T13:36:18.669416",
     "exception": false,
     "start_time": "2022-04-21T13:36:18.518033",
     "status": "completed"
    },
    "tags": []
   },
   "outputs": [],
   "source": [
    "# sales by day"
   ]
  },
  {
   "cell_type": "code",
   "execution_count": null,
   "id": "dff6fac4",
   "metadata": {
    "execution": {
     "iopub.execute_input": "2022-04-21T13:36:18.956475Z",
     "iopub.status.busy": "2022-04-21T13:36:18.955662Z",
     "iopub.status.idle": "2022-04-21T13:36:19.253683Z",
     "shell.execute_reply": "2022-04-21T13:36:19.252897Z"
    },
    "papermill": {
     "duration": 0.443906,
     "end_time": "2022-04-21T13:36:19.255609",
     "exception": false,
     "start_time": "2022-04-21T13:36:18.811703",
     "status": "completed"
    },
    "tags": []
   },
   "outputs": [],
   "source": [
    "e9=data.groupby('day').price_to_pay.sum().reset_index()\n",
    "plt.figure(figsize=(18,7))\n",
    "sns.lineplot(x='day',y='price_to_pay',data=e9)\n",
    "plt.ticklabel_format(style='plain',axis='y')\n",
    "plt.ylabel('Sales')\n",
    "plt.xticks(rotation=90)\n",
    "plt.show()"
   ]
  },
  {
   "cell_type": "code",
   "execution_count": null,
   "id": "864ef628",
   "metadata": {
    "execution": {
     "iopub.execute_input": "2022-04-21T13:36:19.564489Z",
     "iopub.status.busy": "2022-04-21T13:36:19.563711Z",
     "iopub.status.idle": "2022-04-21T13:36:19.567574Z",
     "shell.execute_reply": "2022-04-21T13:36:19.567013Z"
    },
    "papermill": {
     "duration": 0.169259,
     "end_time": "2022-04-21T13:36:19.569295",
     "exception": false,
     "start_time": "2022-04-21T13:36:19.400036",
     "status": "completed"
    },
    "tags": []
   },
   "outputs": [],
   "source": [
    "# quantity by day"
   ]
  },
  {
   "cell_type": "code",
   "execution_count": null,
   "id": "d3984844",
   "metadata": {
    "execution": {
     "iopub.execute_input": "2022-04-21T13:36:19.893289Z",
     "iopub.status.busy": "2022-04-21T13:36:19.892760Z",
     "iopub.status.idle": "2022-04-21T13:36:20.186608Z",
     "shell.execute_reply": "2022-04-21T13:36:20.185807Z"
    },
    "papermill": {
     "duration": 0.456659,
     "end_time": "2022-04-21T13:36:20.190010",
     "exception": false,
     "start_time": "2022-04-21T13:36:19.733351",
     "status": "completed"
    },
    "tags": []
   },
   "outputs": [],
   "source": [
    "e10=data.groupby('day').order_item_id.count().reset_index()\n",
    "plt.figure(figsize=(18,7))\n",
    "sns.lineplot(x='day',y='order_item_id',data=e10)\n",
    "plt.ticklabel_format(style='plain',axis='y')\n",
    "plt.ylabel('quantity')\n",
    "plt.xticks(rotation=90)\n",
    "plt.show()"
   ]
  },
  {
   "cell_type": "code",
   "execution_count": null,
   "id": "1b0f7c06",
   "metadata": {
    "execution": {
     "iopub.execute_input": "2022-04-21T13:36:20.487850Z",
     "iopub.status.busy": "2022-04-21T13:36:20.487585Z",
     "iopub.status.idle": "2022-04-21T13:36:20.490749Z",
     "shell.execute_reply": "2022-04-21T13:36:20.490176Z"
    },
    "papermill": {
     "duration": 0.153749,
     "end_time": "2022-04-21T13:36:20.492478",
     "exception": false,
     "start_time": "2022-04-21T13:36:20.338729",
     "status": "completed"
    },
    "tags": []
   },
   "outputs": [],
   "source": [
    "# sales by payment method"
   ]
  },
  {
   "cell_type": "code",
   "execution_count": null,
   "id": "ee8ab575",
   "metadata": {
    "execution": {
     "iopub.execute_input": "2022-04-21T13:36:20.792473Z",
     "iopub.status.busy": "2022-04-21T13:36:20.791945Z",
     "iopub.status.idle": "2022-04-21T13:36:20.804430Z",
     "shell.execute_reply": "2022-04-21T13:36:20.803621Z"
    },
    "papermill": {
     "duration": 0.163458,
     "end_time": "2022-04-21T13:36:20.806166",
     "exception": false,
     "start_time": "2022-04-21T13:36:20.642708",
     "status": "completed"
    },
    "tags": []
   },
   "outputs": [],
   "source": [
    "order_payments.payment_type.nunique()"
   ]
  },
  {
   "cell_type": "code",
   "execution_count": null,
   "id": "fc3365cc",
   "metadata": {
    "execution": {
     "iopub.execute_input": "2022-04-21T13:36:21.109266Z",
     "iopub.status.busy": "2022-04-21T13:36:21.108745Z",
     "iopub.status.idle": "2022-04-21T13:36:21.124018Z",
     "shell.execute_reply": "2022-04-21T13:36:21.123206Z"
    },
    "papermill": {
     "duration": 0.167742,
     "end_time": "2022-04-21T13:36:21.125718",
     "exception": false,
     "start_time": "2022-04-21T13:36:20.957976",
     "status": "completed"
    },
    "tags": []
   },
   "outputs": [],
   "source": [
    "order_payments.groupby('payment_type').payment_value.sum()"
   ]
  },
  {
   "cell_type": "code",
   "execution_count": null,
   "id": "04459276",
   "metadata": {
    "execution": {
     "iopub.execute_input": "2022-04-21T13:36:21.421396Z",
     "iopub.status.busy": "2022-04-21T13:36:21.421101Z",
     "iopub.status.idle": "2022-04-21T13:36:21.563875Z",
     "shell.execute_reply": "2022-04-21T13:36:21.562713Z"
    },
    "papermill": {
     "duration": 0.292827,
     "end_time": "2022-04-21T13:36:21.566859",
     "exception": false,
     "start_time": "2022-04-21T13:36:21.274032",
     "status": "completed"
    },
    "tags": []
   },
   "outputs": [],
   "source": [
    "e11=order_payments.groupby('payment_type').payment_value.sum().reset_index()\n",
    "plt.figure(figsize=(12,5))\n",
    "sns.barplot(e11.payment_type,e11.payment_value)\n",
    "plt.ticklabel_format(style='plain',axis='y')\n",
    "plt.ylabel('Sales')\n",
    "plt.xticks(rotation=90)\n",
    "plt.show()"
   ]
  },
  {
   "cell_type": "markdown",
   "id": "449dbaf7",
   "metadata": {
    "papermill": {
     "duration": 0.147978,
     "end_time": "2022-04-21T13:36:21.873963",
     "exception": false,
     "start_time": "2022-04-21T13:36:21.725985",
     "status": "completed"
    },
    "tags": []
   },
   "source": [
    "## f. Popular Products by month, seller, state, category."
   ]
  },
  {
   "cell_type": "code",
   "execution_count": null,
   "id": "5963d965",
   "metadata": {
    "execution": {
     "iopub.execute_input": "2022-04-21T13:36:22.180485Z",
     "iopub.status.busy": "2022-04-21T13:36:22.179750Z",
     "iopub.status.idle": "2022-04-21T13:36:22.182996Z",
     "shell.execute_reply": "2022-04-21T13:36:22.182457Z"
    },
    "papermill": {
     "duration": 0.158303,
     "end_time": "2022-04-21T13:36:22.184715",
     "exception": false,
     "start_time": "2022-04-21T13:36:22.026412",
     "status": "completed"
    },
    "tags": []
   },
   "outputs": [],
   "source": [
    "# popular products by month (top 5 products per month)"
   ]
  },
  {
   "cell_type": "code",
   "execution_count": null,
   "id": "2663b062",
   "metadata": {
    "execution": {
     "iopub.execute_input": "2022-04-21T13:36:22.480387Z",
     "iopub.status.busy": "2022-04-21T13:36:22.480083Z",
     "iopub.status.idle": "2022-04-21T13:36:22.605720Z",
     "shell.execute_reply": "2022-04-21T13:36:22.604887Z"
    },
    "papermill": {
     "duration": 0.276096,
     "end_time": "2022-04-21T13:36:22.607687",
     "exception": false,
     "start_time": "2022-04-21T13:36:22.331591",
     "status": "completed"
    },
    "tags": []
   },
   "outputs": [],
   "source": [
    "f1=data.groupby(['month_year',data.product_id.rename('product')]).product_id.count().reset_index().sort_values(by=['month_year','product_id'],ascending=[True,False])\n",
    "f1=f1.groupby('month_year').head(5).reset_index(drop=True)\n",
    "f1[['month_year','product']]"
   ]
  },
  {
   "cell_type": "code",
   "execution_count": null,
   "id": "1147661c",
   "metadata": {
    "execution": {
     "iopub.execute_input": "2022-04-21T13:36:22.910105Z",
     "iopub.status.busy": "2022-04-21T13:36:22.909139Z",
     "iopub.status.idle": "2022-04-21T13:36:22.912614Z",
     "shell.execute_reply": "2022-04-21T13:36:22.912066Z"
    },
    "papermill": {
     "duration": 0.157526,
     "end_time": "2022-04-21T13:36:22.914227",
     "exception": false,
     "start_time": "2022-04-21T13:36:22.756701",
     "status": "completed"
    },
    "tags": []
   },
   "outputs": [],
   "source": [
    "# popular products by seller (top 5 products for seller)"
   ]
  },
  {
   "cell_type": "code",
   "execution_count": null,
   "id": "0378cedd",
   "metadata": {
    "execution": {
     "iopub.execute_input": "2022-04-21T13:36:23.217856Z",
     "iopub.status.busy": "2022-04-21T13:36:23.217358Z",
     "iopub.status.idle": "2022-04-21T13:36:23.340553Z",
     "shell.execute_reply": "2022-04-21T13:36:23.339761Z"
    },
    "papermill": {
     "duration": 0.276331,
     "end_time": "2022-04-21T13:36:23.342388",
     "exception": false,
     "start_time": "2022-04-21T13:36:23.066057",
     "status": "completed"
    },
    "tags": []
   },
   "outputs": [],
   "source": [
    "f2=data.groupby(['seller_id',data.product_id.rename('product')]).product_id.count().reset_index().sort_values(by=['seller_id','product_id'],ascending=[True,False])\n",
    "f2=f2.groupby('seller_id').head(5).reset_index(drop=True)\n",
    "f2[['seller_id','product']]"
   ]
  },
  {
   "cell_type": "code",
   "execution_count": null,
   "id": "69d48a14",
   "metadata": {
    "execution": {
     "iopub.execute_input": "2022-04-21T13:36:23.640020Z",
     "iopub.status.busy": "2022-04-21T13:36:23.639762Z",
     "iopub.status.idle": "2022-04-21T13:36:23.642947Z",
     "shell.execute_reply": "2022-04-21T13:36:23.642190Z"
    },
    "papermill": {
     "duration": 0.155039,
     "end_time": "2022-04-21T13:36:23.644634",
     "exception": false,
     "start_time": "2022-04-21T13:36:23.489595",
     "status": "completed"
    },
    "tags": []
   },
   "outputs": [],
   "source": [
    "# popular products by state (top 5 products for customer state)"
   ]
  },
  {
   "cell_type": "code",
   "execution_count": null,
   "id": "ee10782b",
   "metadata": {
    "execution": {
     "iopub.execute_input": "2022-04-21T13:36:23.944108Z",
     "iopub.status.busy": "2022-04-21T13:36:23.943604Z",
     "iopub.status.idle": "2022-04-21T13:36:24.061056Z",
     "shell.execute_reply": "2022-04-21T13:36:24.059994Z"
    },
    "papermill": {
     "duration": 0.270746,
     "end_time": "2022-04-21T13:36:24.063183",
     "exception": false,
     "start_time": "2022-04-21T13:36:23.792437",
     "status": "completed"
    },
    "tags": []
   },
   "outputs": [],
   "source": [
    "f3=data.groupby(['customer_state',data.product_id.rename('product')]).product_id.count().reset_index().sort_values(by=['customer_state','product_id'],ascending=[True,False])\n",
    "f3=f3.groupby('customer_state').head(5).reset_index(drop=True)\n",
    "f3[['customer_state','product']]"
   ]
  },
  {
   "cell_type": "code",
   "execution_count": null,
   "id": "0eb5065f",
   "metadata": {
    "execution": {
     "iopub.execute_input": "2022-04-21T13:36:24.366302Z",
     "iopub.status.busy": "2022-04-21T13:36:24.365612Z",
     "iopub.status.idle": "2022-04-21T13:36:24.368780Z",
     "shell.execute_reply": "2022-04-21T13:36:24.368243Z"
    },
    "papermill": {
     "duration": 0.156445,
     "end_time": "2022-04-21T13:36:24.370364",
     "exception": false,
     "start_time": "2022-04-21T13:36:24.213919",
     "status": "completed"
    },
    "tags": []
   },
   "outputs": [],
   "source": [
    "# popular products by category"
   ]
  },
  {
   "cell_type": "code",
   "execution_count": null,
   "id": "24922699",
   "metadata": {
    "execution": {
     "iopub.execute_input": "2022-04-21T13:36:24.674132Z",
     "iopub.status.busy": "2022-04-21T13:36:24.673655Z",
     "iopub.status.idle": "2022-04-21T13:36:24.779063Z",
     "shell.execute_reply": "2022-04-21T13:36:24.778207Z"
    },
    "papermill": {
     "duration": 0.261861,
     "end_time": "2022-04-21T13:36:24.781171",
     "exception": false,
     "start_time": "2022-04-21T13:36:24.519310",
     "status": "completed"
    },
    "tags": []
   },
   "outputs": [],
   "source": [
    "f4=data.groupby(['product_category_name',data.product_id.rename('product')]).product_id.count().reset_index().sort_values(by=['product_category_name','product_id'],ascending=[True,False])\n",
    "f4=f4.groupby('product_category_name').head(5).reset_index(drop=True)\n",
    "f4[['product_category_name','product']]"
   ]
  },
  {
   "cell_type": "markdown",
   "id": "49fba038",
   "metadata": {
    "papermill": {
     "duration": 0.152934,
     "end_time": "2022-04-21T13:36:25.086814",
     "exception": false,
     "start_time": "2022-04-21T13:36:24.933880",
     "status": "completed"
    },
    "tags": []
   },
   "source": [
    "## g. Popular categories by state, month"
   ]
  },
  {
   "cell_type": "code",
   "execution_count": null,
   "id": "063cec5e",
   "metadata": {
    "execution": {
     "iopub.execute_input": "2022-04-21T13:36:25.387057Z",
     "iopub.status.busy": "2022-04-21T13:36:25.386499Z",
     "iopub.status.idle": "2022-04-21T13:36:25.389983Z",
     "shell.execute_reply": "2022-04-21T13:36:25.389067Z"
    },
    "papermill": {
     "duration": 0.155805,
     "end_time": "2022-04-21T13:36:25.391777",
     "exception": false,
     "start_time": "2022-04-21T13:36:25.235972",
     "status": "completed"
    },
    "tags": []
   },
   "outputs": [],
   "source": [
    "# popular categories by state(Top 5 categories)"
   ]
  },
  {
   "cell_type": "code",
   "execution_count": null,
   "id": "efb9bc2a",
   "metadata": {
    "execution": {
     "iopub.execute_input": "2022-04-21T13:36:25.691851Z",
     "iopub.status.busy": "2022-04-21T13:36:25.691341Z",
     "iopub.status.idle": "2022-04-21T13:36:25.733130Z",
     "shell.execute_reply": "2022-04-21T13:36:25.732524Z"
    },
    "papermill": {
     "duration": 0.193859,
     "end_time": "2022-04-21T13:36:25.734806",
     "exception": false,
     "start_time": "2022-04-21T13:36:25.540947",
     "status": "completed"
    },
    "tags": []
   },
   "outputs": [],
   "source": [
    "g1=data.groupby(['customer_state',data.product_category_name.rename('category')]).product_category_name.count().reset_index().sort_values(by=['customer_state','product_category_name'],ascending=[True,False])\n",
    "g1=g1.groupby('customer_state').head(5).reset_index(drop=True)\n",
    "g1[['customer_state','category']]"
   ]
  },
  {
   "cell_type": "code",
   "execution_count": null,
   "id": "28ae0f13",
   "metadata": {
    "execution": {
     "iopub.execute_input": "2022-04-21T13:36:26.042890Z",
     "iopub.status.busy": "2022-04-21T13:36:26.042403Z",
     "iopub.status.idle": "2022-04-21T13:36:26.045586Z",
     "shell.execute_reply": "2022-04-21T13:36:26.044971Z"
    },
    "papermill": {
     "duration": 0.156257,
     "end_time": "2022-04-21T13:36:26.047252",
     "exception": false,
     "start_time": "2022-04-21T13:36:25.890995",
     "status": "completed"
    },
    "tags": []
   },
   "outputs": [],
   "source": [
    "#  popular categories by month(Top 5 categories)"
   ]
  },
  {
   "cell_type": "code",
   "execution_count": null,
   "id": "fef3a0fb",
   "metadata": {
    "execution": {
     "iopub.execute_input": "2022-04-21T13:36:26.347833Z",
     "iopub.status.busy": "2022-04-21T13:36:26.347584Z",
     "iopub.status.idle": "2022-04-21T13:36:26.389609Z",
     "shell.execute_reply": "2022-04-21T13:36:26.389006Z"
    },
    "papermill": {
     "duration": 0.193852,
     "end_time": "2022-04-21T13:36:26.391296",
     "exception": false,
     "start_time": "2022-04-21T13:36:26.197444",
     "status": "completed"
    },
    "tags": []
   },
   "outputs": [],
   "source": [
    "g1=data.groupby(['month_year',data.product_category_name.rename('category')]).product_category_name.count().reset_index().sort_values(by=['month_year','product_category_name'],ascending=[True,False])\n",
    "g1=g1.groupby('month_year').head(5).reset_index(drop=True)\n",
    "g1[['month_year','category']]"
   ]
  },
  {
   "cell_type": "markdown",
   "id": "999aa483",
   "metadata": {
    "papermill": {
     "duration": 0.150452,
     "end_time": "2022-04-21T13:36:26.692207",
     "exception": false,
     "start_time": "2022-04-21T13:36:26.541755",
     "status": "completed"
    },
    "tags": []
   },
   "source": [
    "## h. List top 10 most expensive products sorted by price"
   ]
  },
  {
   "cell_type": "code",
   "execution_count": null,
   "id": "69e98011",
   "metadata": {
    "execution": {
     "iopub.execute_input": "2022-04-21T13:36:27.003231Z",
     "iopub.status.busy": "2022-04-21T13:36:27.002707Z",
     "iopub.status.idle": "2022-04-21T13:36:27.065657Z",
     "shell.execute_reply": "2022-04-21T13:36:27.065068Z"
    },
    "papermill": {
     "duration": 0.220715,
     "end_time": "2022-04-21T13:36:27.067206",
     "exception": false,
     "start_time": "2022-04-21T13:36:26.846491",
     "status": "completed"
    },
    "tags": []
   },
   "outputs": [],
   "source": [
    "data.groupby('product_id').price.mean().sort_values(ascending=False).head(10).reset_index().product_id"
   ]
  },
  {
   "cell_type": "markdown",
   "id": "f0d7a9ce",
   "metadata": {
    "papermill": {
     "duration": 0.151168,
     "end_time": "2022-04-21T13:36:27.370476",
     "exception": false,
     "start_time": "2022-04-21T13:36:27.219308",
     "status": "completed"
    },
    "tags": []
   },
   "source": [
    "# 2. Performing Customers/sellers Segmentation"
   ]
  },
  {
   "cell_type": "markdown",
   "id": "4b652fe7",
   "metadata": {
    "papermill": {
     "duration": 0.150209,
     "end_time": "2022-04-21T13:36:27.671049",
     "exception": false,
     "start_time": "2022-04-21T13:36:27.520840",
     "status": "completed"
    },
    "tags": []
   },
   "source": [
    "## a. Divide the customers into groups based on the revenue generated"
   ]
  },
  {
   "cell_type": "code",
   "execution_count": null,
   "id": "142fc3d6",
   "metadata": {
    "execution": {
     "iopub.execute_input": "2022-04-21T13:36:27.977929Z",
     "iopub.status.busy": "2022-04-21T13:36:27.977340Z",
     "iopub.status.idle": "2022-04-21T13:36:28.119116Z",
     "shell.execute_reply": "2022-04-21T13:36:28.118459Z"
    },
    "papermill": {
     "duration": 0.297497,
     "end_time": "2022-04-21T13:36:28.121198",
     "exception": false,
     "start_time": "2022-04-21T13:36:27.823701",
     "status": "completed"
    },
    "tags": []
   },
   "outputs": [],
   "source": [
    "a2=data.groupby('customer_id').price_to_pay.sum().reset_index()"
   ]
  },
  {
   "cell_type": "code",
   "execution_count": null,
   "id": "93f11d0e",
   "metadata": {
    "execution": {
     "iopub.execute_input": "2022-04-21T13:36:28.422924Z",
     "iopub.status.busy": "2022-04-21T13:36:28.422083Z",
     "iopub.status.idle": "2022-04-21T13:36:28.440514Z",
     "shell.execute_reply": "2022-04-21T13:36:28.439751Z"
    },
    "papermill": {
     "duration": 0.171171,
     "end_time": "2022-04-21T13:36:28.442566",
     "exception": false,
     "start_time": "2022-04-21T13:36:28.271395",
     "status": "completed"
    },
    "tags": []
   },
   "outputs": [],
   "source": [
    "a2['Group_number']=pd.qcut(a2['price_to_pay'],10,labels=False)"
   ]
  },
  {
   "cell_type": "code",
   "execution_count": null,
   "id": "9a6fb38c",
   "metadata": {
    "execution": {
     "iopub.execute_input": "2022-04-21T13:36:28.748952Z",
     "iopub.status.busy": "2022-04-21T13:36:28.748241Z",
     "iopub.status.idle": "2022-04-21T13:36:28.762703Z",
     "shell.execute_reply": "2022-04-21T13:36:28.762194Z"
    },
    "papermill": {
     "duration": 0.167811,
     "end_time": "2022-04-21T13:36:28.764282",
     "exception": false,
     "start_time": "2022-04-21T13:36:28.596471",
     "status": "completed"
    },
    "tags": []
   },
   "outputs": [],
   "source": [
    "a2[['customer_id','Group_number']]"
   ]
  },
  {
   "cell_type": "markdown",
   "id": "bc25630f",
   "metadata": {
    "papermill": {
     "duration": 0.153264,
     "end_time": "2022-04-21T13:36:29.099562",
     "exception": false,
     "start_time": "2022-04-21T13:36:28.946298",
     "status": "completed"
    },
    "tags": []
   },
   "source": [
    "## b. Divide the sellers into groups based on the revenue generated"
   ]
  },
  {
   "cell_type": "code",
   "execution_count": null,
   "id": "fe619901",
   "metadata": {
    "execution": {
     "iopub.execute_input": "2022-04-21T13:36:29.400689Z",
     "iopub.status.busy": "2022-04-21T13:36:29.400081Z",
     "iopub.status.idle": "2022-04-21T13:36:29.420156Z",
     "shell.execute_reply": "2022-04-21T13:36:29.419511Z"
    },
    "papermill": {
     "duration": 0.173277,
     "end_time": "2022-04-21T13:36:29.422162",
     "exception": false,
     "start_time": "2022-04-21T13:36:29.248885",
     "status": "completed"
    },
    "tags": []
   },
   "outputs": [],
   "source": [
    "b2=data.groupby('seller_id').price_to_pay.sum().reset_index()"
   ]
  },
  {
   "cell_type": "code",
   "execution_count": null,
   "id": "4c9ac11e",
   "metadata": {
    "execution": {
     "iopub.execute_input": "2022-04-21T13:36:29.724964Z",
     "iopub.status.busy": "2022-04-21T13:36:29.724469Z",
     "iopub.status.idle": "2022-04-21T13:36:29.729954Z",
     "shell.execute_reply": "2022-04-21T13:36:29.729435Z"
    },
    "papermill": {
     "duration": 0.159303,
     "end_time": "2022-04-21T13:36:29.731625",
     "exception": false,
     "start_time": "2022-04-21T13:36:29.572322",
     "status": "completed"
    },
    "tags": []
   },
   "outputs": [],
   "source": [
    "b2['Group_number']=pd.qcut(b2['price_to_pay'],10,labels=False)"
   ]
  },
  {
   "cell_type": "code",
   "execution_count": null,
   "id": "69199717",
   "metadata": {
    "execution": {
     "iopub.execute_input": "2022-04-21T13:36:30.040622Z",
     "iopub.status.busy": "2022-04-21T13:36:30.040086Z",
     "iopub.status.idle": "2022-04-21T13:36:30.050903Z",
     "shell.execute_reply": "2022-04-21T13:36:30.050127Z"
    },
    "papermill": {
     "duration": 0.16853,
     "end_time": "2022-04-21T13:36:30.052573",
     "exception": false,
     "start_time": "2022-04-21T13:36:29.884043",
     "status": "completed"
    },
    "tags": []
   },
   "outputs": [],
   "source": [
    "b2[['seller_id','Group_number']]"
   ]
  },
  {
   "cell_type": "code",
   "execution_count": null,
   "id": "c4a0519c",
   "metadata": {
    "execution": {
     "iopub.execute_input": "2022-04-21T13:36:30.359343Z",
     "iopub.status.busy": "2022-04-21T13:36:30.358920Z",
     "iopub.status.idle": "2022-04-21T13:36:30.385671Z",
     "shell.execute_reply": "2022-04-21T13:36:30.385032Z"
    },
    "papermill": {
     "duration": 0.182526,
     "end_time": "2022-04-21T13:36:30.387363",
     "exception": false,
     "start_time": "2022-04-21T13:36:30.204837",
     "status": "completed"
    },
    "tags": []
   },
   "outputs": [],
   "source": [
    "data.product_id.nunique()"
   ]
  },
  {
   "cell_type": "markdown",
   "id": "86e8546e",
   "metadata": {
    "papermill": {
     "duration": 0.153925,
     "end_time": "2022-04-21T13:36:30.691888",
     "exception": false,
     "start_time": "2022-04-21T13:36:30.537963",
     "status": "completed"
    },
    "tags": []
   },
   "source": [
    "## 3. Cross-Selling (Which products are selling together)"
   ]
  },
  {
   "cell_type": "code",
   "execution_count": null,
   "id": "c76877f1",
   "metadata": {},
   "outputs": [],
   "source": [
    "# Join the orders and products data \n",
    "orders_items_join_products=pd.merge(left=order_items,right=products,left_on='product_id',right_on='product_id',how='left')"
   ]
  },
  {
   "cell_type": "code",
   "execution_count": null,
   "id": "6d29368b",
   "metadata": {},
   "outputs": [],
   "source": [
    "orders_items_join_products\n",
    "\n",
    "orders_items_join_products_cross_df1=orders_items_join_products[orders_items_join_products['order_id'].duplicated(keep=False)]"
   ]
  },
  {
   "cell_type": "code",
   "execution_count": null,
   "id": "123106c4",
   "metadata": {},
   "outputs": [],
   "source": [
    "orders_items_join_products_cross_df1.head(5)"
   ]
  },
  {
   "cell_type": "code",
   "execution_count": null,
   "id": "c13f354d",
   "metadata": {
    "execution": {
     "iopub.execute_input": "2022-04-21T13:36:31.010173Z",
     "iopub.status.busy": "2022-04-21T13:36:31.009698Z",
     "iopub.status.idle": "2022-04-21T13:36:31.228901Z",
     "shell.execute_reply": "2022-04-21T13:36:31.228038Z"
    },
    "papermill": {
     "duration": 0.377938,
     "end_time": "2022-04-21T13:36:31.231254",
     "exception": false,
     "start_time": "2022-04-21T13:36:30.853316",
     "status": "completed"
    },
    "tags": []
   },
   "outputs": [],
   "source": [
    "cs=data.groupby(['order_id','product_id']).order_item_id.count().reset_index()"
   ]
  },
  {
   "cell_type": "code",
   "execution_count": null,
   "id": "687ddb23",
   "metadata": {},
   "outputs": [],
   "source": [
    "orders_items_join_products_cross_df1['product_bundle']=orders_items_join_products_cross_df1.groupby(by='order_id')['product_category_name'].transform(lambda x : ' '.join(map(str, x)))\n",
    "orders_items_join_products_cross_df1.product_bundle"
   ]
  },
  {
   "cell_type": "code",
   "execution_count": null,
   "id": "07bcafac",
   "metadata": {},
   "outputs": [],
   "source": [
    "orders_items_join_products_cross_df1=orders_items_join_products_cross_df1[['order_id','product_bundle']].drop_duplicates()\n",
    "orders_items_join_products_cross_df1"
   ]
  },
  {
   "cell_type": "code",
   "execution_count": null,
   "id": "278f4c54",
   "metadata": {},
   "outputs": [],
   "source": [
    "orders_items_join_products_cross_df1.groupby(by='product_bundle').count().reset_index().sort_values('order_id',ascending=False).head(10)"
   ]
  },
  {
   "cell_type": "code",
   "execution_count": null,
   "id": "9d6f48b7",
   "metadata": {},
   "outputs": [],
   "source": [
    "# use itertools and collections libraries for count \n",
    "from itertools import combinations\n",
    "from collections import Counter\n",
    "\n",
    "count=Counter()\n",
    "\n",
    "for row in orders_items_join_products_cross_df1['product_bundle']:\n",
    "    row_list=row.split(' ')\n",
    "    count.update(Counter(combinations(row_list,2)))\n",
    "\n",
    "print (\"Top 10 combinations of products are selling together in each transaction.........(combination of 2 or 3 buying together)\")\n",
    "\n",
    "count.most_common(10)"
   ]
  },
  {
   "cell_type": "code",
   "execution_count": null,
   "id": "f0b162fc",
   "metadata": {
    "execution": {
     "iopub.execute_input": "2022-04-21T13:36:31.537663Z",
     "iopub.status.busy": "2022-04-21T13:36:31.537159Z",
     "iopub.status.idle": "2022-04-21T13:36:32.877578Z",
     "shell.execute_reply": "2022-04-21T13:36:32.876714Z"
    },
    "papermill": {
     "duration": 1.497589,
     "end_time": "2022-04-21T13:36:32.880052",
     "exception": false,
     "start_time": "2022-04-21T13:36:31.382463",
     "status": "completed"
    },
    "tags": []
   },
   "outputs": [],
   "source": []
  },
  {
   "cell_type": "markdown",
   "id": "4d670723",
   "metadata": {
    "papermill": {
     "duration": 0.157599,
     "end_time": "2022-04-21T13:36:37.048940",
     "exception": false,
     "start_time": "2022-04-21T13:36:36.891341",
     "status": "completed"
    },
    "tags": []
   },
   "source": [
    "## 4. Payment Behaviour"
   ]
  },
  {
   "cell_type": "markdown",
   "id": "cc7ee29a",
   "metadata": {
    "papermill": {
     "duration": 0.152225,
     "end_time": "2022-04-21T13:36:37.353726",
     "exception": false,
     "start_time": "2022-04-21T13:36:37.201501",
     "status": "completed"
    },
    "tags": []
   },
   "source": [
    "### a. How customers are paying?"
   ]
  },
  {
   "cell_type": "code",
   "execution_count": null,
   "id": "6e5587e7",
   "metadata": {
    "execution": {
     "iopub.execute_input": "2022-04-21T13:36:37.663369Z",
     "iopub.status.busy": "2022-04-21T13:36:37.663066Z",
     "iopub.status.idle": "2022-04-21T13:36:37.782656Z",
     "shell.execute_reply": "2022-04-21T13:36:37.781944Z"
    },
    "papermill": {
     "duration": 0.276371,
     "end_time": "2022-04-21T13:36:37.785178",
     "exception": false,
     "start_time": "2022-04-21T13:36:37.508807",
     "status": "completed"
    },
    "tags": []
   },
   "outputs": [],
   "source": [
    "payment_behaviour=order_payments.merge(orders,on='order_id')"
   ]
  },
  {
   "cell_type": "code",
   "execution_count": null,
   "id": "900911bc",
   "metadata": {
    "execution": {
     "iopub.execute_input": "2022-04-21T13:36:38.101936Z",
     "iopub.status.busy": "2022-04-21T13:36:38.101450Z",
     "iopub.status.idle": "2022-04-21T13:36:38.126896Z",
     "shell.execute_reply": "2022-04-21T13:36:38.126232Z"
    },
    "papermill": {
     "duration": 0.186465,
     "end_time": "2022-04-21T13:36:38.128752",
     "exception": false,
     "start_time": "2022-04-21T13:36:37.942287",
     "status": "completed"
    },
    "tags": []
   },
   "outputs": [],
   "source": [
    "a4=payment_behaviour.groupby('payment_type').customer_id.count().reset_index()"
   ]
  },
  {
   "cell_type": "code",
   "execution_count": null,
   "id": "7cb9590c",
   "metadata": {
    "execution": {
     "iopub.execute_input": "2022-04-21T13:36:38.435091Z",
     "iopub.status.busy": "2022-04-21T13:36:38.434803Z",
     "iopub.status.idle": "2022-04-21T13:36:38.522542Z",
     "shell.execute_reply": "2022-04-21T13:36:38.521411Z"
    },
    "papermill": {
     "duration": 0.244445,
     "end_time": "2022-04-21T13:36:38.525363",
     "exception": false,
     "start_time": "2022-04-21T13:36:38.280918",
     "status": "completed"
    },
    "tags": []
   },
   "outputs": [],
   "source": [
    "plt.pie(a4.customer_id,labels=a4.payment_type)\n",
    "plt.show()"
   ]
  },
  {
   "cell_type": "markdown",
   "id": "8c12a3d2",
   "metadata": {
    "papermill": {
     "duration": 0.156076,
     "end_time": "2022-04-21T13:36:38.878420",
     "exception": false,
     "start_time": "2022-04-21T13:36:38.722344",
     "status": "completed"
    },
    "tags": []
   },
   "source": [
    "## b. Which payment channels are used by most customers?"
   ]
  },
  {
   "cell_type": "code",
   "execution_count": null,
   "id": "462cc814",
   "metadata": {
    "execution": {
     "iopub.execute_input": "2022-04-21T13:36:39.197806Z",
     "iopub.status.busy": "2022-04-21T13:36:39.197554Z",
     "iopub.status.idle": "2022-04-21T13:36:39.200891Z",
     "shell.execute_reply": "2022-04-21T13:36:39.199997Z"
    },
    "papermill": {
     "duration": 0.167212,
     "end_time": "2022-04-21T13:36:39.202689",
     "exception": false,
     "start_time": "2022-04-21T13:36:39.035477",
     "status": "completed"
    },
    "tags": []
   },
   "outputs": [],
   "source": [
    "# payment channels by revenue"
   ]
  },
  {
   "cell_type": "code",
   "execution_count": null,
   "id": "f336441a",
   "metadata": {
    "execution": {
     "iopub.execute_input": "2022-04-21T13:36:39.517290Z",
     "iopub.status.busy": "2022-04-21T13:36:39.517023Z",
     "iopub.status.idle": "2022-04-21T13:36:39.875483Z",
     "shell.execute_reply": "2022-04-21T13:36:39.874643Z"
    },
    "papermill": {
     "duration": 0.518974,
     "end_time": "2022-04-21T13:36:39.878468",
     "exception": false,
     "start_time": "2022-04-21T13:36:39.359494",
     "status": "completed"
    },
    "tags": []
   },
   "outputs": [],
   "source": [
    "payment_behaviour.groupby('payment_type').payment_value.sum().plot.bar()"
   ]
  },
  {
   "cell_type": "code",
   "execution_count": null,
   "id": "9830ee5e",
   "metadata": {
    "execution": {
     "iopub.execute_input": "2022-04-21T13:36:40.200260Z",
     "iopub.status.busy": "2022-04-21T13:36:40.199431Z",
     "iopub.status.idle": "2022-04-21T13:36:40.202654Z",
     "shell.execute_reply": "2022-04-21T13:36:40.202169Z"
    },
    "papermill": {
     "duration": 0.16144,
     "end_time": "2022-04-21T13:36:40.204192",
     "exception": false,
     "start_time": "2022-04-21T13:36:40.042752",
     "status": "completed"
    },
    "tags": []
   },
   "outputs": [],
   "source": [
    "# payments channels by order_id"
   ]
  },
  {
   "cell_type": "code",
   "execution_count": null,
   "id": "b99c9cfc",
   "metadata": {
    "execution": {
     "iopub.execute_input": "2022-04-21T13:36:40.513620Z",
     "iopub.status.busy": "2022-04-21T13:36:40.513106Z",
     "iopub.status.idle": "2022-04-21T13:36:40.718851Z",
     "shell.execute_reply": "2022-04-21T13:36:40.718055Z"
    },
    "papermill": {
     "duration": 0.36318,
     "end_time": "2022-04-21T13:36:40.721000",
     "exception": false,
     "start_time": "2022-04-21T13:36:40.357820",
     "status": "completed"
    },
    "tags": []
   },
   "outputs": [],
   "source": [
    "payment_behaviour.groupby('payment_type').order_id.count().plot.bar()"
   ]
  },
  {
   "cell_type": "markdown",
   "id": "181e3ba2",
   "metadata": {
    "papermill": {
     "duration": 0.159668,
     "end_time": "2022-04-21T13:36:41.041124",
     "exception": false,
     "start_time": "2022-04-21T13:36:40.881456",
     "status": "completed"
    },
    "tags": []
   },
   "source": [
    "## 5. Customer satisfaction towards category & product"
   ]
  },
  {
   "cell_type": "markdown",
   "id": "d4874683",
   "metadata": {
    "papermill": {
     "duration": 0.155058,
     "end_time": "2022-04-21T13:36:41.353252",
     "exception": false,
     "start_time": "2022-04-21T13:36:41.198194",
     "status": "completed"
    },
    "tags": []
   },
   "source": [
    "###  a. Which categories (top 10) are maximum rated & minimum rated?"
   ]
  },
  {
   "cell_type": "code",
   "execution_count": null,
   "id": "feff730c",
   "metadata": {
    "execution": {
     "iopub.execute_input": "2022-04-21T13:36:41.664093Z",
     "iopub.status.busy": "2022-04-21T13:36:41.663485Z",
     "iopub.status.idle": "2022-04-21T13:36:41.679859Z",
     "shell.execute_reply": "2022-04-21T13:36:41.679283Z"
    },
    "papermill": {
     "duration": 0.174101,
     "end_time": "2022-04-21T13:36:41.681746",
     "exception": false,
     "start_time": "2022-04-21T13:36:41.507645",
     "status": "completed"
    },
    "tags": []
   },
   "outputs": [],
   "source": [
    "category_ratings=data.groupby('product_category_name').review_score.mean().reset_index().sort_values(by='review_score')"
   ]
  },
  {
   "cell_type": "code",
   "execution_count": null,
   "id": "16b2e817",
   "metadata": {
    "execution": {
     "iopub.execute_input": "2022-04-21T13:36:41.992271Z",
     "iopub.status.busy": "2022-04-21T13:36:41.991435Z",
     "iopub.status.idle": "2022-04-21T13:36:42.001517Z",
     "shell.execute_reply": "2022-04-21T13:36:42.000651Z"
    },
    "papermill": {
     "duration": 0.167182,
     "end_time": "2022-04-21T13:36:42.003245",
     "exception": false,
     "start_time": "2022-04-21T13:36:41.836063",
     "status": "completed"
    },
    "tags": []
   },
   "outputs": [],
   "source": [
    "#  top 10 min rated\n",
    "category_ratings.head(10)"
   ]
  },
  {
   "cell_type": "code",
   "execution_count": null,
   "id": "38aa0075",
   "metadata": {
    "execution": {
     "iopub.execute_input": "2022-04-21T13:36:42.325885Z",
     "iopub.status.busy": "2022-04-21T13:36:42.325489Z",
     "iopub.status.idle": "2022-04-21T13:36:42.334510Z",
     "shell.execute_reply": "2022-04-21T13:36:42.333665Z"
    },
    "papermill": {
     "duration": 0.171065,
     "end_time": "2022-04-21T13:36:42.336157",
     "exception": false,
     "start_time": "2022-04-21T13:36:42.165092",
     "status": "completed"
    },
    "tags": []
   },
   "outputs": [],
   "source": [
    "#  top 10 max rated\n",
    "category_ratings.tail(10)"
   ]
  },
  {
   "cell_type": "markdown",
   "id": "069bf04d",
   "metadata": {
    "papermill": {
     "duration": 0.156347,
     "end_time": "2022-04-21T13:36:42.648211",
     "exception": false,
     "start_time": "2022-04-21T13:36:42.491864",
     "status": "completed"
    },
    "tags": []
   },
   "source": [
    "### b. Which products (top10) are maximum rated & minimum rated?"
   ]
  },
  {
   "cell_type": "code",
   "execution_count": null,
   "id": "0b225ac3",
   "metadata": {
    "execution": {
     "iopub.execute_input": "2022-04-21T13:36:42.963869Z",
     "iopub.status.busy": "2022-04-21T13:36:42.963492Z",
     "iopub.status.idle": "2022-04-21T13:36:43.025604Z",
     "shell.execute_reply": "2022-04-21T13:36:43.024917Z"
    },
    "papermill": {
     "duration": 0.221552,
     "end_time": "2022-04-21T13:36:43.027591",
     "exception": false,
     "start_time": "2022-04-21T13:36:42.806039",
     "status": "completed"
    },
    "tags": []
   },
   "outputs": [],
   "source": [
    "product_ratings=data.groupby('product_id').review_score.mean().reset_index().sort_values(by='review_score')"
   ]
  },
  {
   "cell_type": "code",
   "execution_count": null,
   "id": "af64dbe5",
   "metadata": {
    "execution": {
     "iopub.execute_input": "2022-04-21T13:36:43.343090Z",
     "iopub.status.busy": "2022-04-21T13:36:43.342676Z",
     "iopub.status.idle": "2022-04-21T13:36:43.352252Z",
     "shell.execute_reply": "2022-04-21T13:36:43.351411Z"
    },
    "papermill": {
     "duration": 0.168692,
     "end_time": "2022-04-21T13:36:43.354013",
     "exception": false,
     "start_time": "2022-04-21T13:36:43.185321",
     "status": "completed"
    },
    "tags": []
   },
   "outputs": [],
   "source": [
    "#  top 10 min rated\n",
    "product_ratings.head(10)"
   ]
  },
  {
   "cell_type": "code",
   "execution_count": null,
   "id": "9fe931ef",
   "metadata": {
    "execution": {
     "iopub.execute_input": "2022-04-21T13:36:43.667932Z",
     "iopub.status.busy": "2022-04-21T13:36:43.667549Z",
     "iopub.status.idle": "2022-04-21T13:36:43.676902Z",
     "shell.execute_reply": "2022-04-21T13:36:43.676097Z"
    },
    "papermill": {
     "duration": 0.16817,
     "end_time": "2022-04-21T13:36:43.678566",
     "exception": false,
     "start_time": "2022-04-21T13:36:43.510396",
     "status": "completed"
    },
    "tags": []
   },
   "outputs": [],
   "source": [
    "#  top 10 max rated\n",
    "product_ratings.tail(10)"
   ]
  },
  {
   "cell_type": "markdown",
   "id": "7a6787ec",
   "metadata": {
    "papermill": {
     "duration": 0.157516,
     "end_time": "2022-04-21T13:36:43.993797",
     "exception": false,
     "start_time": "2022-04-21T13:36:43.836281",
     "status": "completed"
    },
    "tags": []
   },
   "source": [
    "### c. Average rating by location, seller, product, category, month"
   ]
  },
  {
   "cell_type": "code",
   "execution_count": null,
   "id": "e964eb11",
   "metadata": {
    "execution": {
     "iopub.execute_input": "2022-04-21T13:36:44.315834Z",
     "iopub.status.busy": "2022-04-21T13:36:44.315361Z",
     "iopub.status.idle": "2022-04-21T13:36:44.318735Z",
     "shell.execute_reply": "2022-04-21T13:36:44.318222Z"
    },
    "papermill": {
     "duration": 0.166496,
     "end_time": "2022-04-21T13:36:44.320471",
     "exception": false,
     "start_time": "2022-04-21T13:36:44.153975",
     "status": "completed"
    },
    "tags": []
   },
   "outputs": [],
   "source": [
    "# average rating by location"
   ]
  },
  {
   "cell_type": "code",
   "execution_count": null,
   "id": "474fa1f3",
   "metadata": {
    "execution": {
     "iopub.execute_input": "2022-04-21T13:36:44.635520Z",
     "iopub.status.busy": "2022-04-21T13:36:44.635009Z",
     "iopub.status.idle": "2022-04-21T13:36:45.155132Z",
     "shell.execute_reply": "2022-04-21T13:36:45.154544Z"
    },
    "papermill": {
     "duration": 0.680035,
     "end_time": "2022-04-21T13:36:45.157228",
     "exception": false,
     "start_time": "2022-04-21T13:36:44.477193",
     "status": "completed"
    },
    "tags": []
   },
   "outputs": [],
   "source": [
    "# data at customer level\n",
    "c1=data.groupby(['order_id','customer_id']).last().reset_index()"
   ]
  },
  {
   "cell_type": "code",
   "execution_count": null,
   "id": "5aec9c4c",
   "metadata": {
    "execution": {
     "iopub.execute_input": "2022-04-21T13:36:45.471782Z",
     "iopub.status.busy": "2022-04-21T13:36:45.471259Z",
     "iopub.status.idle": "2022-04-21T13:36:45.490416Z",
     "shell.execute_reply": "2022-04-21T13:36:45.489620Z"
    },
    "papermill": {
     "duration": 0.178812,
     "end_time": "2022-04-21T13:36:45.492351",
     "exception": false,
     "start_time": "2022-04-21T13:36:45.313539",
     "status": "completed"
    },
    "tags": []
   },
   "outputs": [],
   "source": [
    "c1.groupby('customer_state').review_score.mean().reset_index()"
   ]
  },
  {
   "cell_type": "code",
   "execution_count": null,
   "id": "a6832e2f",
   "metadata": {
    "execution": {
     "iopub.execute_input": "2022-04-21T13:36:45.809913Z",
     "iopub.status.busy": "2022-04-21T13:36:45.809361Z",
     "iopub.status.idle": "2022-04-21T13:36:45.812911Z",
     "shell.execute_reply": "2022-04-21T13:36:45.812355Z"
    },
    "papermill": {
     "duration": 0.164688,
     "end_time": "2022-04-21T13:36:45.814706",
     "exception": false,
     "start_time": "2022-04-21T13:36:45.650018",
     "status": "completed"
    },
    "tags": []
   },
   "outputs": [],
   "source": [
    "# average rating by seller"
   ]
  },
  {
   "cell_type": "code",
   "execution_count": null,
   "id": "7aa5e6c2",
   "metadata": {
    "execution": {
     "iopub.execute_input": "2022-04-21T13:36:46.135057Z",
     "iopub.status.busy": "2022-04-21T13:36:46.134593Z",
     "iopub.status.idle": "2022-04-21T13:36:46.587805Z",
     "shell.execute_reply": "2022-04-21T13:36:46.587213Z"
    },
    "papermill": {
     "duration": 0.616943,
     "end_time": "2022-04-21T13:36:46.589977",
     "exception": false,
     "start_time": "2022-04-21T13:36:45.973034",
     "status": "completed"
    },
    "tags": []
   },
   "outputs": [],
   "source": [
    "# getting data at product and seller level:\n",
    "c2=data.groupby(['order_id','product_id','seller_id']).last().reset_index()"
   ]
  },
  {
   "cell_type": "code",
   "execution_count": null,
   "id": "45bfeaad",
   "metadata": {
    "execution": {
     "iopub.execute_input": "2022-04-21T13:36:46.909632Z",
     "iopub.status.busy": "2022-04-21T13:36:46.909115Z",
     "iopub.status.idle": "2022-04-21T13:36:46.934991Z",
     "shell.execute_reply": "2022-04-21T13:36:46.934241Z"
    },
    "papermill": {
     "duration": 0.189866,
     "end_time": "2022-04-21T13:36:46.936907",
     "exception": false,
     "start_time": "2022-04-21T13:36:46.747041",
     "status": "completed"
    },
    "tags": []
   },
   "outputs": [],
   "source": [
    "c2.groupby('seller_id').review_score.mean().reset_index()"
   ]
  },
  {
   "cell_type": "code",
   "execution_count": null,
   "id": "6080ef2c",
   "metadata": {
    "execution": {
     "iopub.execute_input": "2022-04-21T13:36:47.259270Z",
     "iopub.status.busy": "2022-04-21T13:36:47.258979Z",
     "iopub.status.idle": "2022-04-21T13:36:47.262712Z",
     "shell.execute_reply": "2022-04-21T13:36:47.262016Z"
    },
    "papermill": {
     "duration": 0.167406,
     "end_time": "2022-04-21T13:36:47.264422",
     "exception": false,
     "start_time": "2022-04-21T13:36:47.097016",
     "status": "completed"
    },
    "tags": []
   },
   "outputs": [],
   "source": [
    "# average rating by product"
   ]
  },
  {
   "cell_type": "code",
   "execution_count": null,
   "id": "7f382d64",
   "metadata": {
    "execution": {
     "iopub.execute_input": "2022-04-21T13:36:47.584881Z",
     "iopub.status.busy": "2022-04-21T13:36:47.584579Z",
     "iopub.status.idle": "2022-04-21T13:36:48.055315Z",
     "shell.execute_reply": "2022-04-21T13:36:48.054423Z"
    },
    "papermill": {
     "duration": 0.634349,
     "end_time": "2022-04-21T13:36:48.057616",
     "exception": false,
     "start_time": "2022-04-21T13:36:47.423267",
     "status": "completed"
    },
    "tags": []
   },
   "outputs": [],
   "source": [
    "# getting data at product  level:\n",
    "c3=data.groupby(['order_id','product_id']).last().reset_index()"
   ]
  },
  {
   "cell_type": "code",
   "execution_count": null,
   "id": "d40e7aaa",
   "metadata": {
    "execution": {
     "iopub.execute_input": "2022-04-21T13:36:48.381250Z",
     "iopub.status.busy": "2022-04-21T13:36:48.380718Z",
     "iopub.status.idle": "2022-04-21T13:36:48.436760Z",
     "shell.execute_reply": "2022-04-21T13:36:48.436204Z"
    },
    "papermill": {
     "duration": 0.219596,
     "end_time": "2022-04-21T13:36:48.438419",
     "exception": false,
     "start_time": "2022-04-21T13:36:48.218823",
     "status": "completed"
    },
    "tags": []
   },
   "outputs": [],
   "source": [
    "c3.groupby('product_id').review_score.mean().reset_index()"
   ]
  },
  {
   "cell_type": "code",
   "execution_count": null,
   "id": "26030c2f",
   "metadata": {
    "execution": {
     "iopub.execute_input": "2022-04-21T13:36:48.757104Z",
     "iopub.status.busy": "2022-04-21T13:36:48.756608Z",
     "iopub.status.idle": "2022-04-21T13:36:48.759567Z",
     "shell.execute_reply": "2022-04-21T13:36:48.758999Z"
    },
    "papermill": {
     "duration": 0.164039,
     "end_time": "2022-04-21T13:36:48.761089",
     "exception": false,
     "start_time": "2022-04-21T13:36:48.597050",
     "status": "completed"
    },
    "tags": []
   },
   "outputs": [],
   "source": [
    "# average rating by category"
   ]
  },
  {
   "cell_type": "code",
   "execution_count": null,
   "id": "d2c2cda8",
   "metadata": {
    "execution": {
     "iopub.execute_input": "2022-04-21T13:36:49.084413Z",
     "iopub.status.busy": "2022-04-21T13:36:49.083677Z",
     "iopub.status.idle": "2022-04-21T13:36:49.546419Z",
     "shell.execute_reply": "2022-04-21T13:36:49.545819Z"
    },
    "papermill": {
     "duration": 0.627821,
     "end_time": "2022-04-21T13:36:49.548397",
     "exception": false,
     "start_time": "2022-04-21T13:36:48.920576",
     "status": "completed"
    },
    "tags": []
   },
   "outputs": [],
   "source": [
    "# getting data at product  level:\n",
    "c4=data.groupby(['order_id','product_id']).last().reset_index()"
   ]
  },
  {
   "cell_type": "code",
   "execution_count": null,
   "id": "f0896223",
   "metadata": {
    "execution": {
     "iopub.execute_input": "2022-04-21T13:36:49.869735Z",
     "iopub.status.busy": "2022-04-21T13:36:49.869209Z",
     "iopub.status.idle": "2022-04-21T13:36:49.889875Z",
     "shell.execute_reply": "2022-04-21T13:36:49.889292Z"
    },
    "papermill": {
     "duration": 0.185405,
     "end_time": "2022-04-21T13:36:49.891513",
     "exception": false,
     "start_time": "2022-04-21T13:36:49.706108",
     "status": "completed"
    },
    "tags": []
   },
   "outputs": [],
   "source": [
    "c4.groupby('product_category_name').review_score.mean().reset_index()"
   ]
  },
  {
   "cell_type": "code",
   "execution_count": null,
   "id": "7c37fe6c",
   "metadata": {
    "execution": {
     "iopub.execute_input": "2022-04-21T13:36:50.214295Z",
     "iopub.status.busy": "2022-04-21T13:36:50.213899Z",
     "iopub.status.idle": "2022-04-21T13:36:50.216536Z",
     "shell.execute_reply": "2022-04-21T13:36:50.216036Z"
    },
    "papermill": {
     "duration": 0.166562,
     "end_time": "2022-04-21T13:36:50.218070",
     "exception": false,
     "start_time": "2022-04-21T13:36:50.051508",
     "status": "completed"
    },
    "tags": []
   },
   "outputs": [],
   "source": [
    "# average rating by month"
   ]
  },
  {
   "cell_type": "code",
   "execution_count": null,
   "id": "052e38b8",
   "metadata": {
    "execution": {
     "iopub.execute_input": "2022-04-21T13:36:50.538458Z",
     "iopub.status.busy": "2022-04-21T13:36:50.538025Z",
     "iopub.status.idle": "2022-04-21T13:36:51.039692Z",
     "shell.execute_reply": "2022-04-21T13:36:51.039012Z"
    },
    "papermill": {
     "duration": 0.664677,
     "end_time": "2022-04-21T13:36:51.041656",
     "exception": false,
     "start_time": "2022-04-21T13:36:50.376979",
     "status": "completed"
    },
    "tags": []
   },
   "outputs": [],
   "source": [
    "# getting data at product  level:\n",
    "c5=data.groupby(['order_id','product_id']).last().reset_index()"
   ]
  },
  {
   "cell_type": "code",
   "execution_count": null,
   "id": "88d7815e",
   "metadata": {
    "execution": {
     "iopub.execute_input": "2022-04-21T13:36:51.411611Z",
     "iopub.status.busy": "2022-04-21T13:36:51.411166Z",
     "iopub.status.idle": "2022-04-21T13:36:51.442151Z",
     "shell.execute_reply": "2022-04-21T13:36:51.441336Z"
    },
    "papermill": {
     "duration": 0.192974,
     "end_time": "2022-04-21T13:36:51.443927",
     "exception": false,
     "start_time": "2022-04-21T13:36:51.250953",
     "status": "completed"
    },
    "tags": []
   },
   "outputs": [],
   "source": [
    "c5.groupby('month_year').review_score.mean().reset_index()"
   ]
  },
  {
   "cell_type": "code",
   "execution_count": null,
   "id": "cc66822b",
   "metadata": {},
   "outputs": [],
   "source": []
  },
  {
   "cell_type": "code",
   "execution_count": null,
   "id": "023b33e1",
   "metadata": {},
   "outputs": [],
   "source": []
  },
  {
   "cell_type": "code",
   "execution_count": null,
   "id": "cd0320fb",
   "metadata": {},
   "outputs": [],
   "source": []
  }
 ],
 "metadata": {
  "kernelspec": {
   "display_name": "Python 3 (ipykernel)",
   "language": "python",
   "name": "python3"
  },
  "language_info": {
   "codemirror_mode": {
    "name": "ipython",
    "version": 3
   },
   "file_extension": ".py",
   "mimetype": "text/x-python",
   "name": "python",
   "nbconvert_exporter": "python",
   "pygments_lexer": "ipython3",
   "version": "3.9.12"
  },
  "papermill": {
   "default_parameters": {},
   "duration": 99.622981,
   "end_time": "2022-04-21T13:36:52.525331",
   "environment_variables": {},
   "exception": null,
   "input_path": "__notebook__.ipynb",
   "output_path": "__notebook__.ipynb",
   "parameters": {},
   "start_time": "2022-04-21T13:35:12.902350",
   "version": "2.3.4"
  }
 },
 "nbformat": 4,
 "nbformat_minor": 5
}
